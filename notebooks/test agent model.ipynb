{
 "cells": [
  {
   "cell_type": "code",
   "execution_count": 1,
   "metadata": {},
   "outputs": [],
   "source": [
    "import sys, os\n",
    "sys.path.append(\"..\")\n",
    "import torch\n",
    "\n",
    "from mune.networks import AgentModel"
   ]
  },
  {
   "cell_type": "markdown",
   "metadata": {},
   "source": [
    "### config"
   ]
  },
  {
   "cell_type": "code",
   "execution_count": 2,
   "metadata": {},
   "outputs": [],
   "source": [
    "modalities_config = {\n",
    "    \"vision\": {\n",
    "        \"type\": \"vision\"\n",
    "    },\n",
    "    \"proprio\": {\n",
    "        \"type\": \"proprio\",\n",
    "        \"in_features\": 4\n",
    "    }\n",
    "}"
   ]
  },
  {
   "cell_type": "code",
   "execution_count": 3,
   "metadata": {},
   "outputs": [],
   "source": [
    "config = {\n",
    "    \"action_output_dim\": 4,\n",
    "    \"modalities_config\": modalities_config,\n",
    "    \"determ_state_dim\": 200,\n",
    "    \"stoch_state_dim\": 30,\n",
    "    \"min_stddev\": 0.1,\n",
    "    \"reward_hidden_dim\": 100,\n",
    "    \"reward_n_layers\": 2,\n",
    "    \"value_hidden_dim\": 100,\n",
    "    \"value_n_layers\": 2,\n",
    "    \"action_hidden_dim\": 100,\n",
    "    \"action_n_layers\": 2\n",
    "}"
   ]
  },
  {
   "cell_type": "code",
   "execution_count": 4,
   "metadata": {},
   "outputs": [],
   "source": [
    "agent_model = AgentModel(**config)"
   ]
  },
  {
   "cell_type": "code",
   "execution_count": 5,
   "metadata": {},
   "outputs": [
    {
     "data": {
      "text/plain": [
       "AgentModel(\n",
       "  (encoder_modalities): ModuleDict(\n",
       "    (vision): VisionEncoder(\n",
       "      (conv_encoder): Sequential(\n",
       "        (conv1): Conv2d(3, 32, kernel_size=(4, 4), stride=(2, 2))\n",
       "        (relu1): ReLU()\n",
       "        (conv2): Conv2d(32, 64, kernel_size=(4, 4), stride=(2, 2))\n",
       "        (relu2): ReLU()\n",
       "        (conv3): Conv2d(64, 128, kernel_size=(4, 4), stride=(2, 2))\n",
       "        (relu3): ReLU()\n",
       "        (conv4): Conv2d(128, 256, kernel_size=(4, 4), stride=(2, 2))\n",
       "        (relu4): ReLU()\n",
       "      )\n",
       "    )\n",
       "    (proprio): ProprioEncoder(\n",
       "      (fc): Linear(in_features=4, out_features=32, bias=True)\n",
       "    )\n",
       "  )\n",
       "  (decoder_modalities): ModuleDict(\n",
       "    (vision): VisionDecoder(\n",
       "      (fc_deter_stoch): Linear(in_features=230, out_features=1024, bias=True)\n",
       "      (convt_decoder): Sequential(\n",
       "        (convt1): ConvTranspose2d(1024, 128, kernel_size=(5, 5), stride=(2, 2))\n",
       "        (relu1): ReLU()\n",
       "        (convt2): ConvTranspose2d(128, 64, kernel_size=(5, 5), stride=(2, 2))\n",
       "        (relu2): ReLU()\n",
       "        (convt3): ConvTranspose2d(64, 32, kernel_size=(6, 6), stride=(2, 2))\n",
       "        (relu3): ReLU()\n",
       "        (convt4): ConvTranspose2d(32, 3, kernel_size=(6, 6), stride=(2, 2))\n",
       "      )\n",
       "    )\n",
       "    (proprio): ProprioDecoder(\n",
       "      (fc): Linear(in_features=230, out_features=4, bias=True)\n",
       "    )\n",
       "  )\n",
       "  (fusion_layer): FusionLayer(\n",
       "    (fc_1): Linear(in_features=1056, out_features=512, bias=True)\n",
       "    (fc_2): Linear(in_features=512, out_features=256, bias=True)\n",
       "  )\n",
       "  (rssm): Rssm(\n",
       "    (fc_state_action): Linear(in_features=34, out_features=200, bias=True)\n",
       "    (fc_prior): Linear(in_features=200, out_features=200, bias=True)\n",
       "    (fc_prior_ms): Linear(in_features=200, out_features=60, bias=True)\n",
       "    (fc_posterior): Linear(in_features=456, out_features=200, bias=True)\n",
       "    (fc_posterior_ms): Linear(in_features=200, out_features=60, bias=True)\n",
       "    (rnn): GRUCell(200, 200)\n",
       "  )\n",
       "  (reward_model): DenseModel(\n",
       "    (model): Sequential(\n",
       "      (0): Linear(in_features=230, out_features=100, bias=True)\n",
       "      (1): Linear(in_features=100, out_features=100, bias=True)\n",
       "      (2): ReLU()\n",
       "      (3): Linear(in_features=100, out_features=1, bias=True)\n",
       "    )\n",
       "  )\n",
       "  (value_model): DenseModel(\n",
       "    (model): Sequential(\n",
       "      (0): Linear(in_features=230, out_features=100, bias=True)\n",
       "      (1): Linear(in_features=100, out_features=100, bias=True)\n",
       "      (2): ReLU()\n",
       "      (3): Linear(in_features=100, out_features=1, bias=True)\n",
       "    )\n",
       "  )\n",
       "  (action_decoder): ActionDecoder(\n",
       "    (model): DenseModel(\n",
       "      (model): Sequential(\n",
       "        (0): Linear(in_features=230, out_features=100, bias=True)\n",
       "        (1): Linear(in_features=100, out_features=100, bias=True)\n",
       "        (2): ReLU()\n",
       "        (3): Linear(in_features=100, out_features=4, bias=True)\n",
       "      )\n",
       "    )\n",
       "  )\n",
       ")"
      ]
     },
     "execution_count": 5,
     "metadata": {},
     "output_type": "execute_result"
    }
   ],
   "source": [
    "agent_model"
   ]
  },
  {
   "cell_type": "markdown",
   "metadata": {},
   "source": [
    "## Multi-steps inference"
   ]
  },
  {
   "cell_type": "code",
   "execution_count": 44,
   "metadata": {},
   "outputs": [
    {
     "name": "stdout",
     "output_type": "stream",
     "text": [
      "CPU times: user 132 ms, sys: 6.23 ms, total: 138 ms\n",
      "Wall time: 81.3 ms\n"
     ]
    }
   ],
   "source": [
    "%%time\n",
    "\n",
    "observations = {\n",
    "    \"vision\": torch.randn((1, 3, 64, 64)),\n",
    "    \"proprio\": torch.randn((1, 4))\n",
    "}\n",
    "\n",
    "prev_action = torch.zeros(1, 4)\n",
    "prev_action[:, 1] = 1\n",
    "\n",
    "prev_determ_state = torch.randn((1, 200))\n",
    "prev_stoch_state = torch.randn((1, 30))\n",
    "\n",
    "with torch.no_grad():\n",
    "    rollout_values = []\n",
    "    for step in range(12):\n",
    "        output = agent_model(observations=observations, \n",
    "                             prev_action=prev_action, \n",
    "                             prev_determ_state=prev_determ_state, \n",
    "                             prev_stoch_state=prev_stoch_state)\n",
    "        rollout_values.append(output)\n",
    "        prev_action = output['pred_action'].logits\n",
    "        prev_determ_state = output['transitions']['determ_state']\n",
    "        prev_stoch_state = output['transitions']['stoch_state_posterior']['stoch_state']"
   ]
  },
  {
   "cell_type": "code",
   "execution_count": 30,
   "metadata": {},
   "outputs": [],
   "source": [
    "import matplotlib.pyplot as plt"
   ]
  },
  {
   "cell_type": "code",
   "execution_count": 31,
   "metadata": {},
   "outputs": [
    {
     "data": {
      "text/plain": [
       "{'vision': tensor([[[[ 1.6914, -0.0216, -1.8797,  ..., -0.8505, -1.5712, -0.7464],\n",
       "           [ 0.4310,  0.6654,  0.7361,  ..., -0.5825, -0.5237,  1.3260],\n",
       "           [-0.4195, -0.3723, -0.7666,  ..., -0.7074,  0.3687, -0.3777],\n",
       "           ...,\n",
       "           [-1.3932, -0.2267, -0.9600,  ...,  1.1756, -0.8390, -0.2843],\n",
       "           [ 0.8772, -0.5756, -1.2153,  ..., -1.2549, -0.3649,  1.0051],\n",
       "           [-2.0285,  0.4242, -1.3816,  ..., -0.6834, -0.2649,  0.5488]],\n",
       " \n",
       "          [[-1.5671,  0.0082,  1.0558,  ...,  1.3215, -1.1793,  1.0527],\n",
       "           [ 0.8717, -0.7737, -1.8604,  ..., -0.4673, -0.7315, -0.3510],\n",
       "           [-1.0044,  1.0602, -1.0290,  ..., -1.0491,  0.5306, -0.6638],\n",
       "           ...,\n",
       "           [-1.0228, -1.5134, -0.8837,  ..., -0.8053, -1.0840,  0.0282],\n",
       "           [-0.9791,  1.1291,  0.4724,  ..., -0.0481,  0.2393, -0.0139],\n",
       "           [ 1.6039,  0.3393,  0.4232,  ..., -1.3762,  1.1795,  0.8392]],\n",
       " \n",
       "          [[ 0.2165, -1.1680,  0.3416,  ..., -0.0826, -0.2718,  0.4840],\n",
       "           [-0.4392, -1.5006,  0.9945,  ..., -0.4921, -0.4066,  1.6552],\n",
       "           [-0.9891, -0.2444, -1.0092,  ...,  1.3105,  0.2400,  0.9325],\n",
       "           ...,\n",
       "           [ 0.7653,  1.3733,  0.2166,  ...,  2.4921,  0.9365, -0.2619],\n",
       "           [-0.3730,  2.1498,  0.7314,  ..., -0.1288, -1.6489,  1.3890],\n",
       "           [ 1.0744,  0.2949, -0.1093,  ...,  0.4741, -1.1674, -1.5680]]]]),\n",
       " 'proprio': tensor([[ 0.3919,  0.2000, -0.1414, -0.0769]])}"
      ]
     },
     "execution_count": 31,
     "metadata": {},
     "output_type": "execute_result"
    }
   ],
   "source": [
    "observations"
   ]
  },
  {
   "cell_type": "code",
   "execution_count": 32,
   "metadata": {},
   "outputs": [
    {
     "name": "stderr",
     "output_type": "stream",
     "text": [
      "Clipping input data to the valid range for imshow with RGB data ([0..1] for floats or [0..255] for integers).\n"
     ]
    },
    {
     "data": {
      "text/plain": [
       "<matplotlib.image.AxesImage at 0x7fd26413a3a0>"
      ]
     },
     "execution_count": 32,
     "metadata": {},
     "output_type": "execute_result"
    },
    {
     "data": {
      "image/png": "[encoded data removed]",
      "text/plain": [
       "<Figure size 432x288 with 1 Axes>"
      ]
     },
     "metadata": {
      "needs_background": "light"
     },
     "output_type": "display_data"
    }
   ],
   "source": [
    "plt.imshow(observations['vision'].squeeze(0).permute(1, 2, 0))"
   ]
  },
  {
   "cell_type": "code",
   "execution_count": 39,
   "metadata": {},
   "outputs": [
    {
     "name": "stderr",
     "output_type": "stream",
     "text": [
      "Clipping input data to the valid range for imshow with RGB data ([0..1] for floats or [0..255] for integers).\n"
     ]
    },
    {
     "data": {
      "text/plain": [
       "<matplotlib.image.AxesImage at 0x7fd2645e7c70>"
      ]
     },
     "execution_count": 39,
     "metadata": {},
     "output_type": "execute_result"
    },
    {
     "data": {
      "image/png": "[encoded data removed]",
      "text/plain": [
       "<Figure size 432x288 with 1 Axes>"
      ]
     },
     "metadata": {
      "needs_background": "light"
     },
     "output_type": "display_data"
    }
   ],
   "source": [
    "plt.imshow(rollout_values[11]['pred_observations']['vision'].squeeze(0).permute(1, 2, 0))"
   ]
  },
  {
   "cell_type": "code",
   "execution_count": null,
   "metadata": {},
   "outputs": [],
   "source": []
  }
 ],
 "metadata": {
  "kernelspec": {
   "display_name": "mune",
   "language": "python",
   "name": "mune"
  },
  "language_info": {
   "codemirror_mode": {
    "name": "ipython",
    "version": 3
   },
   "file_extension": ".py",
   "mimetype": "text/x-python",
   "name": "python",
   "nbconvert_exporter": "python",
   "pygments_lexer": "ipython3",
   "version": "3.8.5"
  }
 },
 "nbformat": 4,
 "nbformat_minor": 4
}
