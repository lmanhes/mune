{
 "cells": [
  {
   "cell_type": "code",
   "execution_count": 1,
   "metadata": {},
   "outputs": [],
   "source": [
    "import sys, os\n",
    "sys.path.append(\"..\")\n",
    "import torch\n",
    "\n",
    "from mune.networks import AgentModel"
   ]
  },
  {
   "cell_type": "markdown",
   "metadata": {},
   "source": [
    "### config"
   ]
  },
  {
   "cell_type": "code",
   "execution_count": 2,
   "metadata": {},
   "outputs": [],
   "source": [
    "modalities_config = {\n",
    "    \"vision\": {\n",
    "        \"type\": \"vision\"\n",
    "    },\n",
    "    \"proprio\": {\n",
    "        \"type\": \"proprio\",\n",
    "        \"in_features\": 4\n",
    "    }\n",
    "}"
   ]
  },
  {
   "cell_type": "code",
   "execution_count": 3,
   "metadata": {},
   "outputs": [],
   "source": [
    "config = {\n",
    "    \"action_output_dim\": 4,\n",
    "    \"modalities_config\": modalities_config,\n",
    "    \"determ_state_dim\": 200,\n",
    "    \"stoch_state_dim\": 30,\n",
    "    \"min_stddev\": 0.1,\n",
    "    \"reward_hidden_dim\": 100,\n",
    "    \"reward_n_layers\": 2,\n",
    "    \"value_hidden_dim\": 100,\n",
    "    \"value_n_layers\": 2,\n",
    "    \"action_hidden_dim\": 100,\n",
    "    \"action_n_layers\": 2\n",
    "}"
   ]
  },
  {
   "cell_type": "code",
   "execution_count": 4,
   "metadata": {},
   "outputs": [],
   "source": [
    "agent_model = AgentModel(**config)"
   ]
  },
  {
   "cell_type": "code",
   "execution_count": 5,
   "metadata": {},
   "outputs": [
    {
     "data": {
      "text/plain": [
       "AgentModel(\n",
       "  (encoder_modalities): ModuleDict(\n",
       "    (vision): VisionEncoder(\n",
       "      (conv_encoder): Sequential(\n",
       "        (conv1): Conv2d(3, 32, kernel_size=(4, 4), stride=(2, 2))\n",
       "        (relu1): ReLU()\n",
       "        (conv2): Conv2d(32, 64, kernel_size=(4, 4), stride=(2, 2))\n",
       "        (relu2): ReLU()\n",
       "        (conv3): Conv2d(64, 128, kernel_size=(4, 4), stride=(2, 2))\n",
       "        (relu3): ReLU()\n",
       "        (conv4): Conv2d(128, 256, kernel_size=(4, 4), stride=(2, 2))\n",
       "        (relu4): ReLU()\n",
       "      )\n",
       "    )\n",
       "    (proprio): ProprioEncoder(\n",
       "      (fc): Linear(in_features=4, out_features=32, bias=True)\n",
       "    )\n",
       "  )\n",
       "  (decoder_modalities): ModuleDict(\n",
       "    (vision): VisionDecoder(\n",
       "      (fc_deter_stoch): Linear(in_features=230, out_features=1024, bias=True)\n",
       "      (convt_decoder): Sequential(\n",
       "        (convt1): ConvTranspose2d(1024, 128, kernel_size=(5, 5), stride=(2, 2))\n",
       "        (relu1): ReLU()\n",
       "        (convt2): ConvTranspose2d(128, 64, kernel_size=(5, 5), stride=(2, 2))\n",
       "        (relu2): ReLU()\n",
       "        (convt3): ConvTranspose2d(64, 32, kernel_size=(6, 6), stride=(2, 2))\n",
       "        (relu3): ReLU()\n",
       "        (convt4): ConvTranspose2d(32, 3, kernel_size=(6, 6), stride=(2, 2))\n",
       "      )\n",
       "    )\n",
       "    (proprio): ProprioDecoder(\n",
       "      (fc): Linear(in_features=230, out_features=4, bias=True)\n",
       "    )\n",
       "  )\n",
       "  (fusion_layer): FusionLayer(\n",
       "    (fc_1): Linear(in_features=1056, out_features=512, bias=True)\n",
       "    (fc_2): Linear(in_features=512, out_features=256, bias=True)\n",
       "  )\n",
       "  (rssm): Rssm(\n",
       "    (fc_state_action): Linear(in_features=34, out_features=200, bias=True)\n",
       "    (fc_prior): Linear(in_features=200, out_features=200, bias=True)\n",
       "    (fc_prior_ms): Linear(in_features=200, out_features=60, bias=True)\n",
       "    (fc_posterior): Linear(in_features=456, out_features=200, bias=True)\n",
       "    (fc_posterior_ms): Linear(in_features=200, out_features=60, bias=True)\n",
       "    (rnn): GRUCell(200, 200)\n",
       "  )\n",
       "  (reward_model): DenseModel(\n",
       "    (model): Sequential(\n",
       "      (0): Linear(in_features=230, out_features=100, bias=True)\n",
       "      (1): Linear(in_features=100, out_features=100, bias=True)\n",
       "      (2): ReLU()\n",
       "      (3): Linear(in_features=100, out_features=1, bias=True)\n",
       "    )\n",
       "  )\n",
       "  (value_model): DenseModel(\n",
       "    (model): Sequential(\n",
       "      (0): Linear(in_features=230, out_features=100, bias=True)\n",
       "      (1): Linear(in_features=100, out_features=100, bias=True)\n",
       "      (2): ReLU()\n",
       "      (3): Linear(in_features=100, out_features=1, bias=True)\n",
       "    )\n",
       "  )\n",
       "  (action_decoder): ActionDecoder(\n",
       "    (model): DenseModel(\n",
       "      (model): Sequential(\n",
       "        (0): Linear(in_features=230, out_features=100, bias=True)\n",
       "        (1): Linear(in_features=100, out_features=100, bias=True)\n",
       "        (2): ReLU()\n",
       "        (3): Linear(in_features=100, out_features=4, bias=True)\n",
       "      )\n",
       "    )\n",
       "  )\n",
       ")"
      ]
     },
     "execution_count": 5,
     "metadata": {},
     "output_type": "execute_result"
    }
   ],
   "source": [
    "agent_model"
   ]
  },
  {
   "cell_type": "code",
   "execution_count": 6,
   "metadata": {},
   "outputs": [],
   "source": [
    "observations = {\n",
    "    \"vision\": torch.randn((1, 3, 64, 64)),\n",
    "    \"proprio\": torch.randn((1, 4))\n",
    "}\n",
    "\n",
    "prev_action = torch.zeros(1, 4)\n",
    "prev_action[:, 1] = 1\n",
    "\n",
    "prev_determ_state = torch.randn((1, 200))\n",
    "prev_stoch_state = torch.randn((1, 30))\n",
    "\n",
    "rollout_values = []\n",
    "for step in range(12):\n",
    "    output = agent_model(observations=observations, \n",
    "                         prev_action=prev_action, \n",
    "                         prev_determ_state=prev_determ_state, \n",
    "                         prev_stoch_state=prev_stoch_state)\n",
    "    rollout_values.append(output)\n",
    "    prev_action = output['pred_action'].logits\n",
    "    prev_determ_state = output['transitions']['determ_state']\n",
    "    prev_stoch_state = output['transitions']['stoch_state_posterior']['stoch_state']"
   ]
  },
  {
   "cell_type": "code",
   "execution_count": 7,
   "metadata": {},
   "outputs": [
    {
     "data": {
      "text/plain": [
       "dict_keys(['pred_reward', 'pred_action', 'pred_value', 'pred_observations', 'transitions'])"
      ]
     },
     "execution_count": 7,
     "metadata": {},
     "output_type": "execute_result"
    }
   ],
   "source": [
    "output.keys()"
   ]
  },
  {
   "cell_type": "code",
   "execution_count": 8,
   "metadata": {},
   "outputs": [
    {
     "data": {
      "text/plain": [
       "tensor([[-1.3598, -1.2564, -1.4358, -1.5111]], grad_fn=<SubBackward0>)"
      ]
     },
     "execution_count": 8,
     "metadata": {},
     "output_type": "execute_result"
    }
   ],
   "source": [
    "output['pred_action'].logits"
   ]
  },
  {
   "cell_type": "code",
   "execution_count": 9,
   "metadata": {},
   "outputs": [
    {
     "data": {
      "text/plain": [
       "{'determ_state': tensor([[-0.1610,  0.2567, -0.1118,  0.2478, -0.1000, -0.3470, -0.1523,  0.2782,\n",
       "           0.2418,  0.0108,  0.0677, -0.1351, -0.0194,  0.0990,  0.1326, -0.0329,\n",
       "           0.1082,  0.2206,  0.1680,  0.0755, -0.2854,  0.0392,  0.1008, -0.0412,\n",
       "           0.4411,  0.0633, -0.4529,  0.3051, -0.3048,  0.2041,  0.0408,  0.0260,\n",
       "          -0.2129, -0.0600,  0.0670, -0.1764,  0.1989,  0.1122, -0.0139, -0.0710,\n",
       "           0.3072, -0.3006, -0.0211, -0.0022,  0.0881,  0.0523, -0.3669, -0.1972,\n",
       "          -0.1646,  0.0779, -0.1723,  0.2695, -0.2377, -0.1299,  0.2289,  0.4681,\n",
       "           0.2451,  0.2806,  0.2071, -0.2395, -0.0756,  0.0377, -0.0299,  0.0622,\n",
       "           0.1092, -0.1334,  0.2260,  0.2305, -0.1351,  0.0246,  0.2574, -0.1058,\n",
       "          -0.0774, -0.1229,  0.2091,  0.1196, -0.1252, -0.2136,  0.2892,  0.1243,\n",
       "          -0.2165, -0.2635,  0.1131,  0.1697, -0.1212,  0.0235, -0.4012, -0.1236,\n",
       "           0.1458,  0.4456,  0.0113, -0.1152, -0.1768,  0.0511, -0.0257, -0.3544,\n",
       "          -0.4774, -0.0653, -0.1003,  0.0839, -0.2185,  0.1251, -0.0545,  0.2327,\n",
       "           0.0987, -0.0935,  0.0812, -0.4524,  0.0925, -0.2929,  0.1616, -0.1762,\n",
       "           0.0349,  0.4287, -0.0283,  0.1121,  0.0178,  0.0048, -0.0146, -0.1077,\n",
       "           0.1544,  0.5044, -0.1327, -0.1542,  0.0454, -0.0537,  0.1544,  0.0564,\n",
       "          -0.0053, -0.0603, -0.3910, -0.1447,  0.0530, -0.2235, -0.0622,  0.2912,\n",
       "           0.0776, -0.3201, -0.0441,  0.1346, -0.0047, -0.0284, -0.0236, -0.2475,\n",
       "          -0.2137, -0.2564,  0.0125, -0.0994,  0.1515, -0.1861,  0.0019,  0.3140,\n",
       "          -0.0189,  0.1404,  0.1339, -0.0300, -0.2981, -0.3010,  0.2350,  0.2565,\n",
       "          -0.0355, -0.3219, -0.3745,  0.0546,  0.0908, -0.0870, -0.1034,  0.0156,\n",
       "           0.0795,  0.2099, -0.0548,  0.2846, -0.1120, -0.0583,  0.1830, -0.0547,\n",
       "          -0.0381, -0.0169, -0.2797, -0.1279, -0.1480,  0.0500, -0.0574,  0.0677,\n",
       "          -0.0141, -0.1536,  0.3285,  0.1766, -0.2731, -0.0515,  0.0216,  0.1802,\n",
       "           0.0299, -0.4328,  0.2341, -0.3682, -0.0909,  0.0261,  0.0862, -0.2092]],\n",
       "        grad_fn=<AddBackward0>),\n",
       " 'stoch_state_prior': {'stoch_state': Normal(loc: torch.Size([1, 30]), scale: torch.Size([1, 30])),\n",
       "  'mean': tensor([[-0.0717,  0.0555, -0.0555, -0.0519, -0.0676, -0.0295, -0.0687, -0.0678,\n",
       "            0.0427, -0.0176,  0.0269, -0.1856, -0.1122, -0.0756,  0.0352, -0.1605,\n",
       "            0.0356, -0.0457, -0.0860,  0.0439, -0.0498,  0.0177, -0.1566, -0.0045,\n",
       "           -0.0454, -0.0204, -0.0342,  0.0676, -0.1293,  0.0590]],\n",
       "         grad_fn=<SplitBackward>),\n",
       "  'stddev': tensor([[0.8060, 0.7688, 0.7460, 0.8047, 0.7833, 0.8057, 0.7744, 0.8301, 0.8352,\n",
       "           0.7538, 0.8216, 0.7844, 0.8287, 0.7351, 0.7979, 0.8388, 0.7930, 0.7773,\n",
       "           0.8102, 0.7771, 0.7877, 0.7860, 0.8751, 0.7753, 0.7545, 0.7933, 0.7759,\n",
       "           0.7904, 0.8756, 0.7883]], grad_fn=<AddBackward0>)},\n",
       " 'stoch_state_posterior': {'stoch_state': tensor([[-0.5604,  0.4000,  1.5660, -1.3942,  1.0542,  0.5847,  1.1016, -1.1386,\n",
       "           -0.7158, -0.8733, -0.1880,  0.6988, -0.6254, -0.2689, -0.6902,  0.2348,\n",
       "           -0.5229,  1.4157,  0.4263, -0.6229,  0.5344, -0.0752,  0.2898,  0.0312,\n",
       "            0.5264,  0.0499,  0.4762,  0.0828,  0.8341,  0.8496]],\n",
       "         grad_fn=<AddBackward0>),\n",
       "  'mean': tensor([[-0.0934, -0.0566,  0.0651,  0.0022, -0.0514, -0.0436, -0.0341, -0.0526,\n",
       "           -0.0055,  0.0045,  0.0848,  0.0151, -0.0608,  0.0336, -0.0163, -0.0581,\n",
       "            0.0313,  0.0597, -0.0647, -0.0658, -0.0482, -0.0453, -0.0289, -0.0003,\n",
       "            0.0657, -0.0241, -0.0221,  0.0047,  0.0043,  0.0464]],\n",
       "         grad_fn=<SplitBackward>),\n",
       "  'stddev': tensor([[0.8073, 0.7889, 0.7794, 0.7946, 0.7870, 0.8025, 0.8035, 0.7983, 0.8300,\n",
       "           0.8406, 0.8003, 0.8012, 0.8209, 0.7983, 0.7968, 0.7985, 0.7615, 0.8291,\n",
       "           0.7520, 0.7918, 0.7909, 0.7692, 0.7499, 0.8025, 0.7508, 0.8113, 0.7887,\n",
       "           0.7501, 0.7938, 0.8048]], grad_fn=<AddBackward0>)},\n",
       " 'hybrid_state': tensor([[-0.1610,  0.2567, -0.1118,  0.2478, -0.1000, -0.3470, -0.1523,  0.2782,\n",
       "           0.2418,  0.0108,  0.0677, -0.1351, -0.0194,  0.0990,  0.1326, -0.0329,\n",
       "           0.1082,  0.2206,  0.1680,  0.0755, -0.2854,  0.0392,  0.1008, -0.0412,\n",
       "           0.4411,  0.0633, -0.4529,  0.3051, -0.3048,  0.2041,  0.0408,  0.0260,\n",
       "          -0.2129, -0.0600,  0.0670, -0.1764,  0.1989,  0.1122, -0.0139, -0.0710,\n",
       "           0.3072, -0.3006, -0.0211, -0.0022,  0.0881,  0.0523, -0.3669, -0.1972,\n",
       "          -0.1646,  0.0779, -0.1723,  0.2695, -0.2377, -0.1299,  0.2289,  0.4681,\n",
       "           0.2451,  0.2806,  0.2071, -0.2395, -0.0756,  0.0377, -0.0299,  0.0622,\n",
       "           0.1092, -0.1334,  0.2260,  0.2305, -0.1351,  0.0246,  0.2574, -0.1058,\n",
       "          -0.0774, -0.1229,  0.2091,  0.1196, -0.1252, -0.2136,  0.2892,  0.1243,\n",
       "          -0.2165, -0.2635,  0.1131,  0.1697, -0.1212,  0.0235, -0.4012, -0.1236,\n",
       "           0.1458,  0.4456,  0.0113, -0.1152, -0.1768,  0.0511, -0.0257, -0.3544,\n",
       "          -0.4774, -0.0653, -0.1003,  0.0839, -0.2185,  0.1251, -0.0545,  0.2327,\n",
       "           0.0987, -0.0935,  0.0812, -0.4524,  0.0925, -0.2929,  0.1616, -0.1762,\n",
       "           0.0349,  0.4287, -0.0283,  0.1121,  0.0178,  0.0048, -0.0146, -0.1077,\n",
       "           0.1544,  0.5044, -0.1327, -0.1542,  0.0454, -0.0537,  0.1544,  0.0564,\n",
       "          -0.0053, -0.0603, -0.3910, -0.1447,  0.0530, -0.2235, -0.0622,  0.2912,\n",
       "           0.0776, -0.3201, -0.0441,  0.1346, -0.0047, -0.0284, -0.0236, -0.2475,\n",
       "          -0.2137, -0.2564,  0.0125, -0.0994,  0.1515, -0.1861,  0.0019,  0.3140,\n",
       "          -0.0189,  0.1404,  0.1339, -0.0300, -0.2981, -0.3010,  0.2350,  0.2565,\n",
       "          -0.0355, -0.3219, -0.3745,  0.0546,  0.0908, -0.0870, -0.1034,  0.0156,\n",
       "           0.0795,  0.2099, -0.0548,  0.2846, -0.1120, -0.0583,  0.1830, -0.0547,\n",
       "          -0.0381, -0.0169, -0.2797, -0.1279, -0.1480,  0.0500, -0.0574,  0.0677,\n",
       "          -0.0141, -0.1536,  0.3285,  0.1766, -0.2731, -0.0515,  0.0216,  0.1802,\n",
       "           0.0299, -0.4328,  0.2341, -0.3682, -0.0909,  0.0261,  0.0862, -0.2092,\n",
       "          -0.5604,  0.4000,  1.5660, -1.3942,  1.0542,  0.5847,  1.1016, -1.1386,\n",
       "          -0.7158, -0.8733, -0.1880,  0.6988, -0.6254, -0.2689, -0.6902,  0.2348,\n",
       "          -0.5229,  1.4157,  0.4263, -0.6229,  0.5344, -0.0752,  0.2898,  0.0312,\n",
       "           0.5264,  0.0499,  0.4762,  0.0828,  0.8341,  0.8496]],\n",
       "        grad_fn=<CatBackward>)}"
      ]
     },
     "execution_count": 9,
     "metadata": {},
     "output_type": "execute_result"
    }
   ],
   "source": [
    "output['transitions']"
   ]
  },
  {
   "cell_type": "code",
   "execution_count": null,
   "metadata": {},
   "outputs": [],
   "source": []
  }
 ],
 "metadata": {
  "kernelspec": {
   "display_name": "mune",
   "language": "python",
   "name": "mune"
  },
  "language_info": {
   "codemirror_mode": {
    "name": "ipython",
    "version": 3
   },
   "file_extension": ".py",
   "mimetype": "text/x-python",
   "name": "python",
   "nbconvert_exporter": "python",
   "pygments_lexer": "ipython3",
   "version": "3.8.5"
  }
 },
 "nbformat": 4,
 "nbformat_minor": 4
}
