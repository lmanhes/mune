{
 "cells": [
  {
   "cell_type": "code",
   "execution_count": 1,
   "metadata": {},
   "outputs": [],
   "source": [
    "import sys, os\n",
    "sys.path.append(\"..\")\n",
    "import torch\n",
    "\n",
    "from mune.networks import AgentModel"
   ]
  },
  {
   "cell_type": "markdown",
   "metadata": {},
   "source": [
    "### config"
   ]
  },
  {
   "cell_type": "code",
   "execution_count": 2,
   "metadata": {},
   "outputs": [],
   "source": [
    "modalities_config = {\n",
    "    \"vision\": {\n",
    "        \"type\": \"vision\"\n",
    "    },\n",
    "    \"proprio\": {\n",
    "        \"type\": \"proprio\",\n",
    "        \"in_features\": 4\n",
    "    }\n",
    "}"
   ]
  },
  {
   "cell_type": "code",
   "execution_count": 3,
   "metadata": {},
   "outputs": [],
   "source": [
    "config = {\n",
    "    \"action_output_dim\": 4,\n",
    "    \"modalities_config\": modalities_config,\n",
    "    \"determ_state_dim\": 200,\n",
    "    \"stoch_state_dim\": 30,\n",
    "    \"min_stddev\": 0.1,\n",
    "    \"reward_hidden_dim\": 100,\n",
    "    \"reward_n_layers\": 2,\n",
    "    \"value_hidden_dim\": 100,\n",
    "    \"value_n_layers\": 2,\n",
    "    \"action_hidden_dim\": 100,\n",
    "    \"action_n_layers\": 2\n",
    "}"
   ]
  },
  {
   "cell_type": "code",
   "execution_count": 4,
   "metadata": {},
   "outputs": [],
   "source": [
    "agent_model = AgentModel(**config)"
   ]
  },
  {
   "cell_type": "code",
   "execution_count": 5,
   "metadata": {},
   "outputs": [
    {
     "data": {
      "text/plain": [
       "AgentModel(\n",
       "  (encoder_modalities): ModuleDict(\n",
       "    (vision): VisionEncoder(\n",
       "      (conv_encoder): Sequential(\n",
       "        (conv1): Conv2d(3, 32, kernel_size=(4, 4), stride=(2, 2))\n",
       "        (relu1): ReLU()\n",
       "        (conv2): Conv2d(32, 64, kernel_size=(4, 4), stride=(2, 2))\n",
       "        (relu2): ReLU()\n",
       "        (conv3): Conv2d(64, 128, kernel_size=(4, 4), stride=(2, 2))\n",
       "        (relu3): ReLU()\n",
       "        (conv4): Conv2d(128, 256, kernel_size=(4, 4), stride=(2, 2))\n",
       "        (relu4): ReLU()\n",
       "      )\n",
       "    )\n",
       "    (proprio): ProprioEncoder(\n",
       "      (fc): Linear(in_features=4, out_features=32, bias=True)\n",
       "    )\n",
       "  )\n",
       "  (decoder_modalities): ModuleDict(\n",
       "    (vision): VisionDecoder(\n",
       "      (fc_deter_stoch): Linear(in_features=230, out_features=1024, bias=True)\n",
       "      (convt_decoder): Sequential(\n",
       "        (convt1): ConvTranspose2d(1024, 128, kernel_size=(5, 5), stride=(2, 2))\n",
       "        (relu1): ReLU()\n",
       "        (convt2): ConvTranspose2d(128, 64, kernel_size=(5, 5), stride=(2, 2))\n",
       "        (relu2): ReLU()\n",
       "        (convt3): ConvTranspose2d(64, 32, kernel_size=(6, 6), stride=(2, 2))\n",
       "        (relu3): ReLU()\n",
       "        (convt4): ConvTranspose2d(32, 3, kernel_size=(6, 6), stride=(2, 2))\n",
       "      )\n",
       "    )\n",
       "    (proprio): ProprioDecoder(\n",
       "      (fc): Linear(in_features=230, out_features=4, bias=True)\n",
       "    )\n",
       "  )\n",
       "  (fusion_layer): FusionLayer(\n",
       "    (fc_1): Linear(in_features=1056, out_features=512, bias=True)\n",
       "    (fc_2): Linear(in_features=512, out_features=256, bias=True)\n",
       "  )\n",
       "  (rssm): Rssm(\n",
       "    (fc_state_action): Linear(in_features=34, out_features=200, bias=True)\n",
       "    (fc_prior): Linear(in_features=200, out_features=200, bias=True)\n",
       "    (fc_prior_ms): Linear(in_features=200, out_features=60, bias=True)\n",
       "    (fc_posterior): Linear(in_features=456, out_features=200, bias=True)\n",
       "    (fc_posterior_ms): Linear(in_features=200, out_features=60, bias=True)\n",
       "    (rnn): GRUCell(200, 200)\n",
       "  )\n",
       "  (reward_model): DenseModel(\n",
       "    (model): Sequential(\n",
       "      (0): Linear(in_features=230, out_features=100, bias=True)\n",
       "      (1): Linear(in_features=100, out_features=100, bias=True)\n",
       "      (2): ReLU()\n",
       "      (3): Linear(in_features=100, out_features=1, bias=True)\n",
       "    )\n",
       "  )\n",
       "  (value_model): DenseModel(\n",
       "    (model): Sequential(\n",
       "      (0): Linear(in_features=230, out_features=100, bias=True)\n",
       "      (1): Linear(in_features=100, out_features=100, bias=True)\n",
       "      (2): ReLU()\n",
       "      (3): Linear(in_features=100, out_features=1, bias=True)\n",
       "    )\n",
       "  )\n",
       "  (action_decoder): ActionDecoder(\n",
       "    (model): DenseModel(\n",
       "      (model): Sequential(\n",
       "        (0): Linear(in_features=230, out_features=100, bias=True)\n",
       "        (1): Linear(in_features=100, out_features=100, bias=True)\n",
       "        (2): ReLU()\n",
       "        (3): Linear(in_features=100, out_features=4, bias=True)\n",
       "      )\n",
       "    )\n",
       "  )\n",
       ")"
      ]
     },
     "execution_count": 5,
     "metadata": {},
     "output_type": "execute_result"
    }
   ],
   "source": [
    "agent_model"
   ]
  },
  {
   "cell_type": "markdown",
   "metadata": {},
   "source": [
    "## Multi-steps inference"
   ]
  },
  {
   "cell_type": "code",
   "execution_count": 6,
   "metadata": {},
   "outputs": [
    {
     "name": "stdout",
     "output_type": "stream",
     "text": [
      "CPU times: user 131 ms, sys: 5.44 ms, total: 136 ms\n",
      "Wall time: 80.2 ms\n"
     ]
    }
   ],
   "source": [
    "%%time\n",
    "\n",
    "observations = {\n",
    "    \"vision\": torch.randn((1, 3, 64, 64)),\n",
    "    \"proprio\": torch.randn((1, 4))\n",
    "}\n",
    "\n",
    "prev_action = torch.zeros(1, 4)\n",
    "prev_action[:, 1] = 1\n",
    "\n",
    "prev_determ_state = torch.randn((1, 200))\n",
    "prev_stoch_state = torch.randn((1, 30))\n",
    "\n",
    "with torch.no_grad():\n",
    "    rollout_values = []\n",
    "    for step in range(12):\n",
    "        output = agent_model(observations=observations, \n",
    "                             prev_action=prev_action, \n",
    "                             prev_determ_state=prev_determ_state, \n",
    "                             prev_stoch_state=prev_stoch_state)\n",
    "        rollout_values.append(output)\n",
    "        prev_action = output['pred_action'].logits\n",
    "        prev_determ_state = output['transitions']['determ_state']\n",
    "        prev_stoch_state = output['transitions']['stoch_state_posterior']['stoch_state']"
   ]
  },
  {
   "cell_type": "code",
   "execution_count": 7,
   "metadata": {},
   "outputs": [],
   "source": [
    "import matplotlib.pyplot as plt"
   ]
  },
  {
   "cell_type": "code",
   "execution_count": 8,
   "metadata": {},
   "outputs": [
    {
     "data": {
      "text/plain": [
       "{'vision': tensor([[[[ 1.3149e+00,  1.3270e+00, -2.6609e+00,  ...,  1.5007e+00,\n",
       "            -4.7207e-01, -1.8779e+00],\n",
       "           [ 2.7730e-03, -4.5486e-01,  1.0113e+00,  ..., -1.0998e+00,\n",
       "            -7.8806e-01,  1.7251e+00],\n",
       "           [-7.9358e-01,  3.1484e-01, -2.9042e-01,  ...,  9.9734e-01,\n",
       "             4.5569e-01,  1.2526e+00],\n",
       "           ...,\n",
       "           [ 1.5394e+00, -5.1940e-01, -1.5224e-01,  ...,  3.7831e-01,\n",
       "             2.9143e-01, -4.7612e-01],\n",
       "           [-1.3578e+00, -1.5863e-01, -4.9834e-01,  ...,  7.1794e-01,\n",
       "             2.2317e-01,  1.6033e+00],\n",
       "           [-4.7202e-01,  2.1355e-01, -1.7412e+00,  ..., -1.6463e+00,\n",
       "             3.7532e-01, -2.1312e+00]],\n",
       " \n",
       "          [[-8.1653e-02, -7.3217e-01,  1.7501e-02,  ..., -5.2078e-01,\n",
       "            -2.9071e-01,  5.6766e-01],\n",
       "           [-2.1956e+00,  4.0482e-01, -5.3978e-01,  ..., -1.5576e+00,\n",
       "             3.7470e-01,  2.9674e-01],\n",
       "           [ 7.0028e-01,  8.0487e-01, -7.1832e-01,  ..., -6.2973e-01,\n",
       "            -5.3851e-01,  1.3590e+00],\n",
       "           ...,\n",
       "           [-6.4423e-01, -4.3911e-01,  2.6511e-01,  ..., -1.7153e+00,\n",
       "             1.9830e+00,  3.3220e-01],\n",
       "           [-1.9685e+00,  4.9001e-01,  2.8924e+00,  ..., -9.7021e-01,\n",
       "             5.0969e-01, -6.3261e-02],\n",
       "           [-6.3395e-01,  1.2337e+00, -1.3649e+00,  ..., -8.3926e-01,\n",
       "             1.5493e+00,  7.0647e-01]],\n",
       " \n",
       "          [[-4.0001e-01, -3.7722e-02, -1.2752e+00,  ...,  5.1672e-01,\n",
       "            -1.8494e-04,  2.6827e-01],\n",
       "           [-2.8154e-01, -1.1201e-01,  2.2992e-01,  ...,  5.7374e-02,\n",
       "             1.3290e-01,  3.7774e-01],\n",
       "           [ 6.9918e-02, -3.5664e-01, -3.2703e-01,  ...,  1.1139e+00,\n",
       "             5.0856e-01, -4.0880e-01],\n",
       "           ...,\n",
       "           [-2.1372e-01,  3.6071e-01, -5.4671e-02,  ...,  8.1035e-01,\n",
       "             7.7282e-01,  1.3651e-01],\n",
       "           [ 7.3542e-01, -5.4414e-01, -5.5886e-01,  ...,  1.1821e+00,\n",
       "             1.1526e+00,  1.2033e+00],\n",
       "           [ 3.0071e-01,  2.2212e-01, -1.6280e+00,  ..., -5.1194e-01,\n",
       "            -3.1589e+00,  1.7586e+00]]]]),\n",
       " 'proprio': tensor([[ 0.2782,  0.5928, -0.1529, -0.0456]])}"
      ]
     },
     "execution_count": 8,
     "metadata": {},
     "output_type": "execute_result"
    }
   ],
   "source": [
    "observations"
   ]
  },
  {
   "cell_type": "code",
   "execution_count": 9,
   "metadata": {},
   "outputs": [
    {
     "name": "stderr",
     "output_type": "stream",
     "text": [
      "Clipping input data to the valid range for imshow with RGB data ([0..1] for floats or [0..255] for integers).\n"
     ]
    },
    {
     "data": {
      "text/plain": [
       "<matplotlib.image.AxesImage at 0x7fbef1b49280>"
      ]
     },
     "execution_count": 9,
     "metadata": {},
     "output_type": "execute_result"
    },
    {
     "data": {
      "image/png": "[encoded data removed]",
      "text/plain": [
       "<Figure size 432x288 with 1 Axes>"
      ]
     },
     "metadata": {
      "needs_background": "light"
     },
     "output_type": "display_data"
    }
   ],
   "source": [
    "plt.imshow(observations['vision'].squeeze(0).permute(1, 2, 0))"
   ]
  },
  {
   "cell_type": "code",
   "execution_count": 10,
   "metadata": {},
   "outputs": [
    {
     "name": "stderr",
     "output_type": "stream",
     "text": [
      "Clipping input data to the valid range for imshow with RGB data ([0..1] for floats or [0..255] for integers).\n"
     ]
    },
    {
     "data": {
      "text/plain": [
       "<matplotlib.image.AxesImage at 0x7fbef1cbcdf0>"
      ]
     },
     "execution_count": 10,
     "metadata": {},
     "output_type": "execute_result"
    },
    {
     "data": {
      "image/png": "[encoded data removed]",
      "text/plain": [
       "<Figure size 432x288 with 1 Axes>"
      ]
     },
     "metadata": {
      "needs_background": "light"
     },
     "output_type": "display_data"
    }
   ],
   "source": [
    "plt.imshow(rollout_values[11]['pred_observations']['vision'].squeeze(0).permute(1, 2, 0))"
   ]
  },
  {
   "cell_type": "code",
   "execution_count": null,
   "metadata": {},
   "outputs": [],
   "source": []
  }
 ],
 "metadata": {
  "kernelspec": {
   "display_name": "mune",
   "language": "python",
   "name": "mune"
  },
  "language_info": {
   "codemirror_mode": {
    "name": "ipython",
    "version": 3
   },
   "file_extension": ".py",
   "mimetype": "text/x-python",
   "name": "python",
   "nbconvert_exporter": "python",
   "pygments_lexer": "ipython3",
   "version": "3.8.5"
  }
 },
 "nbformat": 4,
 "nbformat_minor": 4
}
