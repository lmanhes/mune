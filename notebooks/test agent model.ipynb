{
 "cells": [
  {
   "cell_type": "code",
   "execution_count": 1,
   "metadata": {},
   "outputs": [],
   "source": [
    "import sys, os\n",
    "sys.path.append(\"..\")\n",
    "import torch\n",
    "\n",
    "from mune.networks import AgentModel"
   ]
  },
  {
   "cell_type": "markdown",
   "metadata": {},
   "source": [
    "### config"
   ]
  },
  {
   "cell_type": "code",
   "execution_count": 2,
   "metadata": {},
   "outputs": [],
   "source": [
    "modalities_config = {\n",
    "    \"vision\": {\n",
    "        \"type\": \"vision\"\n",
    "    },\n",
    "    \"proprio\": {\n",
    "        \"type\": \"proprio\",\n",
    "        \"in_features\": 4\n",
    "    }\n",
    "}"
   ]
  },
  {
   "cell_type": "code",
   "execution_count": 3,
   "metadata": {},
   "outputs": [],
   "source": [
    "config = {\n",
    "    \"action_output_dim\": 4,\n",
    "    \"modalities_config\": modalities_config,\n",
    "    \"determ_state_dim\": 200,\n",
    "    \"stoch_state_dim\": 30,\n",
    "    \"min_stddev\": 0.1,\n",
    "    \"reward_hidden_dim\": 100,\n",
    "    \"reward_n_layers\": 2,\n",
    "    \"value_hidden_dim\": 100,\n",
    "    \"value_n_layers\": 2,\n",
    "    \"action_hidden_dim\": 100,\n",
    "    \"action_n_layers\": 2\n",
    "}"
   ]
  },
  {
   "cell_type": "code",
   "execution_count": 4,
   "metadata": {},
   "outputs": [],
   "source": [
    "agent_model = AgentModel(**config)"
   ]
  },
  {
   "cell_type": "code",
   "execution_count": 5,
   "metadata": {},
   "outputs": [
    {
     "data": {
      "text/plain": [
       "AgentModel(\n",
       "  (modalities): ModuleDict(\n",
       "    (vision_encoder): VisionEncoder(\n",
       "      (conv_encoder): Sequential(\n",
       "        (conv1): Conv2d(3, 32, kernel_size=(4, 4), stride=(2, 2))\n",
       "        (relu1): ReLU()\n",
       "        (conv2): Conv2d(32, 64, kernel_size=(4, 4), stride=(2, 2))\n",
       "        (relu2): ReLU()\n",
       "        (conv3): Conv2d(64, 128, kernel_size=(4, 4), stride=(2, 2))\n",
       "        (relu3): ReLU()\n",
       "        (conv4): Conv2d(128, 256, kernel_size=(4, 4), stride=(2, 2))\n",
       "        (relu4): ReLU()\n",
       "      )\n",
       "    )\n",
       "    (vision_decoder): VisionDecoder(\n",
       "      (fc_deter_stoch): Linear(in_features=230, out_features=1024, bias=True)\n",
       "      (convt_decoder): Sequential(\n",
       "        (convt1): ConvTranspose2d(1024, 128, kernel_size=(5, 5), stride=(2, 2))\n",
       "        (relu1): ReLU()\n",
       "        (convt2): ConvTranspose2d(128, 64, kernel_size=(5, 5), stride=(2, 2))\n",
       "        (relu2): ReLU()\n",
       "        (convt3): ConvTranspose2d(64, 32, kernel_size=(6, 6), stride=(2, 2))\n",
       "        (relu3): ReLU()\n",
       "        (convt4): ConvTranspose2d(32, 3, kernel_size=(6, 6), stride=(2, 2))\n",
       "      )\n",
       "    )\n",
       "    (proprio_encoder): ProprioEncoder(\n",
       "      (fc): Linear(in_features=4, out_features=32, bias=True)\n",
       "    )\n",
       "    (proprio_decoder): ProprioDecoder(\n",
       "      (fc): Linear(in_features=230, out_features=4, bias=True)\n",
       "    )\n",
       "  )\n",
       "  (fusion_layer): FusionLayer(\n",
       "    (fc_1): Linear(in_features=1056, out_features=512, bias=True)\n",
       "    (fc_2): Linear(in_features=512, out_features=256, bias=True)\n",
       "  )\n",
       "  (rssm): Rssm(\n",
       "    (fc_state_action): Linear(in_features=34, out_features=200, bias=True)\n",
       "    (fc_prior): Linear(in_features=200, out_features=200, bias=True)\n",
       "    (fc_prior_ms): Linear(in_features=200, out_features=60, bias=True)\n",
       "    (fc_posterior): Linear(in_features=1256, out_features=200, bias=True)\n",
       "    (fc_posterior_ms): Linear(in_features=200, out_features=60, bias=True)\n",
       "    (rnn): GRUCell(200, 200)\n",
       "  )\n",
       "  (reward_model): DenseModel(\n",
       "    (model): Sequential(\n",
       "      (0): Linear(in_features=230, out_features=100, bias=True)\n",
       "      (1): Linear(in_features=100, out_features=100, bias=True)\n",
       "      (2): ReLU()\n",
       "      (3): Linear(in_features=100, out_features=1, bias=True)\n",
       "    )\n",
       "  )\n",
       "  (value_model): DenseModel(\n",
       "    (model): Sequential(\n",
       "      (0): Linear(in_features=230, out_features=100, bias=True)\n",
       "      (1): Linear(in_features=100, out_features=100, bias=True)\n",
       "      (2): ReLU()\n",
       "      (3): Linear(in_features=100, out_features=1, bias=True)\n",
       "    )\n",
       "  )\n",
       "  (action_decoder): ActionDecoder(\n",
       "    (model): DenseModel(\n",
       "      (model): Sequential(\n",
       "        (0): Linear(in_features=230, out_features=100, bias=True)\n",
       "        (1): Linear(in_features=100, out_features=100, bias=True)\n",
       "        (2): ReLU()\n",
       "        (3): Linear(in_features=100, out_features=4, bias=True)\n",
       "      )\n",
       "    )\n",
       "  )\n",
       ")"
      ]
     },
     "execution_count": 5,
     "metadata": {},
     "output_type": "execute_result"
    }
   ],
   "source": [
    "agent_model"
   ]
  },
  {
   "cell_type": "code",
   "execution_count": 6,
   "metadata": {},
   "outputs": [],
   "source": [
    "observations = {\n",
    "    \"vision\": torch.randn((1, 3, 64, 64)),\n",
    "    \"proprio\": torch.randn((1, 4))\n",
    "}"
   ]
  },
  {
   "cell_type": "code",
   "execution_count": 7,
   "metadata": {},
   "outputs": [],
   "source": [
    "sensors_embedding = agent_model.encode_observations(observations)"
   ]
  },
  {
   "cell_type": "code",
   "execution_count": null,
   "metadata": {},
   "outputs": [],
   "source": []
  }
 ],
 "metadata": {
  "kernelspec": {
   "display_name": "mune",
   "language": "python",
   "name": "mune"
  },
  "language_info": {
   "codemirror_mode": {
    "name": "ipython",
    "version": 3
   },
   "file_extension": ".py",
   "mimetype": "text/x-python",
   "name": "python",
   "nbconvert_exporter": "python",
   "pygments_lexer": "ipython3",
   "version": "3.8.5"
  }
 },
 "nbformat": 4,
 "nbformat_minor": 4
}
