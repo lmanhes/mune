{
 "cells": [
  {
   "cell_type": "code",
   "execution_count": 1,
   "metadata": {},
   "outputs": [],
   "source": [
    "import os, sys\n",
    "sys.path.append(\"..\")\n",
    "import torch\n",
    "\n",
    "from mune import networks "
   ]
  },
  {
   "cell_type": "markdown",
   "metadata": {},
   "source": [
    "### Parameters"
   ]
  },
  {
   "cell_type": "code",
   "execution_count": 2,
   "metadata": {},
   "outputs": [],
   "source": [
    "proprio_sensors_dim = 4\n",
    "action_dim = 4\n",
    "vision_dim = [3, 64, 64]\n",
    "rnn_hidden_dim = 200"
   ]
  },
  {
   "cell_type": "markdown",
   "metadata": {},
   "source": [
    "### Define networks"
   ]
  },
  {
   "cell_type": "code",
   "execution_count": 3,
   "metadata": {},
   "outputs": [],
   "source": [
    "proprio_encoder = networks.ProprioEncoder(in_features=proprio_sensors_dim)\n",
    "vision_encoder = networks.VisionEncoder()\n",
    "fusion_layer = networks.FusionLayer(in_features=proprio_encoder.output_size+vision_encoder.output_size)"
   ]
  },
  {
   "cell_type": "code",
   "execution_count": 4,
   "metadata": {},
   "outputs": [],
   "source": [
    "rssm = networks.Rssm(state_dim=fusion_layer.output_size,\n",
    "                     action_dim=action_dim,\n",
    "                     rnn_hidden_dim=rnn_hidden_dim)"
   ]
  },
  {
   "cell_type": "code",
   "execution_count": 5,
   "metadata": {},
   "outputs": [],
   "source": [
    "proprio_decoder = networks.ProprioDecoder(state_dim=fusion_layer.output_size,\n",
    "                                          rnn_hidden_dim=rnn_hidden_dim,\n",
    "                                          out_features=proprio_sensors_dim)"
   ]
  },
  {
   "cell_type": "code",
   "execution_count": 6,
   "metadata": {},
   "outputs": [],
   "source": [
    "vision_decoder = networks.VisionDecoder(state_dim=fusion_layer.output_size,\n",
    "                                        rnn_hidden_dim=rnn_hidden_dim)"
   ]
  },
  {
   "cell_type": "markdown",
   "metadata": {},
   "source": [
    "### Define inputs"
   ]
  },
  {
   "cell_type": "code",
   "execution_count": 7,
   "metadata": {},
   "outputs": [],
   "source": [
    "x_proprio = torch.randn((1, proprio_sensors_dim))\n",
    "x_vision = torch.randn([1] + vision_dim)\n",
    "action = torch.randn((1, action_dim))\n",
    "rnn_hidden = torch.randn((1, rnn_hidden_dim))"
   ]
  },
  {
   "cell_type": "markdown",
   "metadata": {},
   "source": [
    "### Encode observation into features"
   ]
  },
  {
   "cell_type": "code",
   "execution_count": 8,
   "metadata": {},
   "outputs": [
    {
     "name": "stdout",
     "output_type": "stream",
     "text": [
      "Fused state size :  torch.Size([1, 256])\n"
     ]
    }
   ],
   "source": [
    "h_proprio = proprio_encoder(x_proprio)\n",
    "h_vision = vision_encoder(x_vision)\n",
    "fused_state = fusion_layer(h_proprio, h_vision)\n",
    "\n",
    "print(\"Fused state size : \", fused_state.size())"
   ]
  },
  {
   "cell_type": "markdown",
   "metadata": {},
   "source": [
    "### One-step imagination"
   ]
  },
  {
   "cell_type": "markdown",
   "metadata": {},
   "source": [
    "#### Future prediction"
   ]
  },
  {
   "cell_type": "code",
   "execution_count": 9,
   "metadata": {},
   "outputs": [
    {
     "name": "stdout",
     "output_type": "stream",
     "text": [
      "Prediction output size :  torch.Size([1, 200])\n",
      "Rnn hidden size :  torch.Size([1, 200])\n"
     ]
    }
   ],
   "source": [
    "pred_output, rnn_hidden = rssm.prior(state=fused_state,\n",
    "                                     action=action,\n",
    "                                     rnn_hidden=rnn_hidden)\n",
    "\n",
    "print(\"Prediction output size : \", pred_output.size())\n",
    "print(\"Rnn hidden size : \", rnn_hidden.size())"
   ]
  },
  {
   "cell_type": "markdown",
   "metadata": {},
   "source": [
    "#### Reconstruction"
   ]
  },
  {
   "cell_type": "code",
   "execution_count": 10,
   "metadata": {},
   "outputs": [
    {
     "name": "stdout",
     "output_type": "stream",
     "text": [
      "Proprioception reconstruction size :  torch.Size([1, 4])\n",
      "Vision reconstruction size :  torch.Size([1, 3, 64, 64])\n"
     ]
    }
   ],
   "source": [
    "recon_proprio = proprio_decoder(fused_state, pred_output)\n",
    "recon_vision = vision_decoder(fused_state, pred_output)\n",
    "\n",
    "print(\"Proprioception reconstruction size : \", recon_proprio.size())\n",
    "print(\"Vision reconstruction size : \", recon_vision.size())"
   ]
  },
  {
   "cell_type": "code",
   "execution_count": null,
   "metadata": {},
   "outputs": [],
   "source": []
  }
 ],
 "metadata": {
  "kernelspec": {
   "display_name": "mune",
   "language": "python",
   "name": "mune"
  },
  "language_info": {
   "codemirror_mode": {
    "name": "ipython",
    "version": 3
   },
   "file_extension": ".py",
   "mimetype": "text/x-python",
   "name": "python",
   "nbconvert_exporter": "python",
   "pygments_lexer": "ipython3",
   "version": "3.8.5"
  }
 },
 "nbformat": 4,
 "nbformat_minor": 4
}
