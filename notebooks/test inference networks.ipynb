{
 "cells": [
  {
   "cell_type": "code",
   "execution_count": 20,
   "metadata": {},
   "outputs": [],
   "source": [
    "import os, sys\n",
    "sys.path.append(\"..\")\n",
    "import torch\n",
    "from torch.nn import functional as F\n",
    "\n",
    "from mune import networks "
   ]
  },
  {
   "cell_type": "markdown",
   "metadata": {},
   "source": [
    "### Parameters"
   ]
  },
  {
   "cell_type": "code",
   "execution_count": 2,
   "metadata": {},
   "outputs": [],
   "source": [
    "proprio_sensors_dim = 4\n",
    "action_dim = 4\n",
    "vision_dim = [3, 64, 64]\n",
    "rnn_hidden_dim = 200\n",
    "stoch_dim = 30"
   ]
  },
  {
   "cell_type": "markdown",
   "metadata": {},
   "source": [
    "### Define networks"
   ]
  },
  {
   "cell_type": "code",
   "execution_count": 3,
   "metadata": {},
   "outputs": [],
   "source": [
    "proprio_encoder = networks.ProprioEncoder(in_features=proprio_sensors_dim)\n",
    "vision_encoder = networks.VisionEncoder()\n",
    "fusion_layer = networks.FusionLayer(in_features=proprio_encoder.output_size+vision_encoder.output_size)"
   ]
  },
  {
   "cell_type": "code",
   "execution_count": 4,
   "metadata": {},
   "outputs": [],
   "source": [
    "rssm = networks.Rssm(emb_dim=fusion_layer.output_size,\n",
    "                     action_dim=action_dim,\n",
    "                     rnn_hidden_dim=rnn_hidden_dim,\n",
    "                    stoch_dim=stoch_dim)"
   ]
  },
  {
   "cell_type": "code",
   "execution_count": 7,
   "metadata": {},
   "outputs": [],
   "source": [
    "proprio_decoder = networks.ProprioDecoder(determ_state_dim = rnn_hidden_dim, \n",
    "                                          stoch_state_dim = stoch_dim,\n",
    "                                          out_features=proprio_sensors_dim)"
   ]
  },
  {
   "cell_type": "code",
   "execution_count": 9,
   "metadata": {},
   "outputs": [],
   "source": [
    "vision_decoder = networks.VisionDecoder(determ_state_dim = rnn_hidden_dim, \n",
    "                                        stoch_state_dim = stoch_dim)"
   ]
  },
  {
   "cell_type": "markdown",
   "metadata": {},
   "source": [
    "### Define inputs"
   ]
  },
  {
   "cell_type": "code",
   "execution_count": 10,
   "metadata": {},
   "outputs": [],
   "source": [
    "x_proprio = torch.randn((1, proprio_sensors_dim))\n",
    "x_vision = torch.randn([1] + vision_dim)\n",
    "action = torch.randn((1, action_dim))\n",
    "rnn_hidden = torch.randn((1, rnn_hidden_dim))\n",
    "post_state = torch.randn((1, stoch_dim))"
   ]
  },
  {
   "cell_type": "markdown",
   "metadata": {},
   "source": [
    "### Encode observation into features"
   ]
  },
  {
   "cell_type": "code",
   "execution_count": 11,
   "metadata": {},
   "outputs": [
    {
     "name": "stdout",
     "output_type": "stream",
     "text": [
      "Fused state size :  torch.Size([1, 256])\n"
     ]
    }
   ],
   "source": [
    "h_proprio = proprio_encoder(x_proprio)\n",
    "h_vision = vision_encoder(x_vision)\n",
    "fused_state = fusion_layer(h_proprio, h_vision)\n",
    "\n",
    "print(\"Fused state size : \", fused_state.size())"
   ]
  },
  {
   "cell_type": "markdown",
   "metadata": {},
   "source": [
    "### One-step imagination"
   ]
  },
  {
   "cell_type": "markdown",
   "metadata": {},
   "source": [
    "#### Future prediction"
   ]
  },
  {
   "cell_type": "code",
   "execution_count": 12,
   "metadata": {},
   "outputs": [],
   "source": [
    "preds = rssm(embed_state=fused_state, \n",
    "                               prev_action=action, \n",
    "                               prev_post_state=post_state, \n",
    "                               prev_hidden_state=rnn_hidden)"
   ]
  },
  {
   "cell_type": "code",
   "execution_count": 15,
   "metadata": {},
   "outputs": [],
   "source": [
    "determ_state = preds[\"determ_state\"]\n",
    "stoch_state = preds[\"stoch_state\"]"
   ]
  },
  {
   "cell_type": "markdown",
   "metadata": {},
   "source": [
    "#### Reconstruction"
   ]
  },
  {
   "cell_type": "code",
   "execution_count": 16,
   "metadata": {},
   "outputs": [
    {
     "name": "stdout",
     "output_type": "stream",
     "text": [
      "Proprioception reconstruction size :  torch.Size([1, 4])\n",
      "Vision reconstruction size :  torch.Size([1, 3, 64, 64])\n"
     ]
    }
   ],
   "source": [
    "recon_proprio = proprio_decoder(determ_state, stoch_state)\n",
    "recon_vision = vision_decoder(determ_state, stoch_state)\n",
    "\n",
    "print(\"Proprioception reconstruction size : \", recon_proprio.size())\n",
    "print(\"Vision reconstruction size : \", recon_vision.size())"
   ]
  },
  {
   "cell_type": "markdown",
   "metadata": {},
   "source": [
    "### Losses\n",
    "\n",
    "reconstruction vision : sum over image, then mean over batch / time "
   ]
  },
  {
   "cell_type": "code",
   "execution_count": 34,
   "metadata": {},
   "outputs": [],
   "source": [
    "recon_vision_loss = F.mse_loss(recon_vision, x_vision, reduction='none').sum((1, 2, 3)).mean(0)"
   ]
  },
  {
   "cell_type": "code",
   "execution_count": 36,
   "metadata": {},
   "outputs": [
    {
     "data": {
      "text/plain": [
       "tensor(12171.2266, grad_fn=<MeanBackward1>)"
      ]
     },
     "execution_count": 36,
     "metadata": {},
     "output_type": "execute_result"
    }
   ],
   "source": [
    "recon_vision_loss"
   ]
  },
  {
   "cell_type": "code",
   "execution_count": null,
   "metadata": {},
   "outputs": [],
   "source": []
  }
 ],
 "metadata": {
  "kernelspec": {
   "display_name": "mune",
   "language": "python",
   "name": "mune"
  },
  "language_info": {
   "codemirror_mode": {
    "name": "ipython",
    "version": 3
   },
   "file_extension": ".py",
   "mimetype": "text/x-python",
   "name": "python",
   "nbconvert_exporter": "python",
   "pygments_lexer": "ipython3",
   "version": "3.8.5"
  }
 },
 "nbformat": 4,
 "nbformat_minor": 4
}
