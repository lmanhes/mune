{
 "cells": [
  {
   "cell_type": "code",
   "execution_count": 1,
   "metadata": {},
   "outputs": [],
   "source": [
    "import os, sys\n",
    "sys.path.append(\"..\")\n",
    "import torch\n",
    "from torch.nn import functional as F\n",
    "\n",
    "from mune import networks "
   ]
  },
  {
   "cell_type": "markdown",
   "metadata": {},
   "source": [
    "### Parameters"
   ]
  },
  {
   "cell_type": "code",
   "execution_count": 2,
   "metadata": {},
   "outputs": [],
   "source": [
    "proprio_sensors_dim = 4\n",
    "action_dim = 4\n",
    "vision_dim = [3, 64, 64]\n",
    "rnn_hidden_dim = 200\n",
    "stoch_dim = 30"
   ]
  },
  {
   "cell_type": "markdown",
   "metadata": {},
   "source": [
    "### Define networks"
   ]
  },
  {
   "cell_type": "code",
   "execution_count": 3,
   "metadata": {},
   "outputs": [],
   "source": [
    "proprio_encoder = networks.ProprioEncoder(in_features=proprio_sensors_dim)\n",
    "vision_encoder = networks.VisionEncoder()\n",
    "fusion_layer = networks.FusionLayer(in_features=proprio_encoder.output_size+vision_encoder.output_size)"
   ]
  },
  {
   "cell_type": "code",
   "execution_count": 4,
   "metadata": {},
   "outputs": [],
   "source": [
    "rssm = networks.Rssm(emb_dim=fusion_layer.output_size,\n",
    "                     action_dim=action_dim,\n",
    "                     rnn_hidden_dim=rnn_hidden_dim,\n",
    "                    stoch_dim=stoch_dim)"
   ]
  },
  {
   "cell_type": "code",
   "execution_count": 5,
   "metadata": {},
   "outputs": [],
   "source": [
    "proprio_decoder = networks.ProprioDecoder(determ_state_dim = rnn_hidden_dim, \n",
    "                                          stoch_state_dim = stoch_dim,\n",
    "                                          out_features=proprio_sensors_dim)"
   ]
  },
  {
   "cell_type": "code",
   "execution_count": 6,
   "metadata": {},
   "outputs": [],
   "source": [
    "vision_decoder = networks.VisionDecoder(determ_state_dim = rnn_hidden_dim, \n",
    "                                        stoch_state_dim = stoch_dim)"
   ]
  },
  {
   "cell_type": "markdown",
   "metadata": {},
   "source": [
    "### Define inputs"
   ]
  },
  {
   "cell_type": "code",
   "execution_count": 7,
   "metadata": {},
   "outputs": [],
   "source": [
    "x_proprio = torch.randn((1, proprio_sensors_dim))\n",
    "x_vision = torch.randn([1] + vision_dim)\n",
    "action = torch.randn((1, action_dim))\n",
    "rnn_hidden = torch.randn((1, rnn_hidden_dim))\n",
    "post_state = torch.randn((1, stoch_dim))"
   ]
  },
  {
   "cell_type": "markdown",
   "metadata": {},
   "source": [
    "### Encode observation into features"
   ]
  },
  {
   "cell_type": "code",
   "execution_count": 8,
   "metadata": {},
   "outputs": [
    {
     "name": "stdout",
     "output_type": "stream",
     "text": [
      "Fused state size :  torch.Size([1, 256])\n"
     ]
    }
   ],
   "source": [
    "h_proprio = proprio_encoder(x_proprio)\n",
    "h_vision = vision_encoder(x_vision)\n",
    "fused_state = fusion_layer(h_proprio, h_vision)\n",
    "\n",
    "print(\"Fused state size : \", fused_state.size())"
   ]
  },
  {
   "cell_type": "markdown",
   "metadata": {},
   "source": [
    "### One-step imagination"
   ]
  },
  {
   "cell_type": "markdown",
   "metadata": {},
   "source": [
    "#### Future prediction"
   ]
  },
  {
   "cell_type": "code",
   "execution_count": 9,
   "metadata": {},
   "outputs": [],
   "source": [
    "preds = rssm(embed_state=fused_state, \n",
    "                               prev_action=action, \n",
    "                               prev_post_state=post_state, \n",
    "                               prev_hidden_state=rnn_hidden)"
   ]
  },
  {
   "cell_type": "code",
   "execution_count": 11,
   "metadata": {},
   "outputs": [
    {
     "data": {
      "text/plain": [
       "{'determ_state': tensor([[ 3.1697e-01, -2.1390e-01,  1.0233e+00,  1.2514e-01, -3.1609e-01,\n",
       "          -6.9335e-01,  3.3119e-01, -1.8346e-01, -8.0287e-01, -1.0589e-01,\n",
       "           5.0827e-01, -2.2856e-01,  5.7494e-03,  1.0625e-01, -1.0246e+00,\n",
       "           2.2749e-02, -1.9430e-01,  5.4993e-02, -3.0332e-01, -5.4308e-02,\n",
       "          -3.2555e-01, -4.2091e-01, -4.3671e-02,  7.1450e-01, -1.2277e+00,\n",
       "           1.8485e-01, -4.9815e-01,  3.2795e-01, -3.6535e-01, -1.1720e+00,\n",
       "          -9.5449e-01,  1.1918e-01, -1.4111e-01,  1.2857e-01, -8.4649e-02,\n",
       "           6.2601e-01,  5.1609e-01,  2.1296e-02, -2.5004e-01, -2.8920e-01,\n",
       "           1.9056e-01,  5.0068e-01,  1.3280e+00,  1.4539e-01, -4.7477e-01,\n",
       "           4.5976e-01,  1.8784e-01, -1.0351e+00, -3.9315e-01,  6.8481e-01,\n",
       "           1.8137e-02, -1.3800e+00,  8.1879e-01, -1.7342e-01, -5.0790e-01,\n",
       "          -3.4193e-01,  5.8718e-02, -5.3629e-02,  1.0432e+00, -2.5643e-02,\n",
       "          -1.2338e-01,  1.8291e+00,  1.8183e-01, -3.4192e-02, -1.0693e+00,\n",
       "           1.7174e-01, -1.6315e-01,  9.5186e-01,  2.0247e-01,  1.0052e+00,\n",
       "           1.1036e+00, -4.1209e-01,  4.3790e-01, -4.6599e-01,  3.8654e-01,\n",
       "          -2.1935e-01,  2.4503e-01, -2.7978e-02,  2.5084e-01,  7.7017e-01,\n",
       "           3.4980e-01, -3.9339e-01, -4.5188e-01, -7.6970e-01, -9.7427e-01,\n",
       "           5.7836e-02,  1.0152e-01, -1.5434e-01,  1.9058e-01,  2.2405e-02,\n",
       "          -3.0669e-02,  4.8863e-01,  3.1664e-01, -1.1773e-01, -2.6474e-01,\n",
       "           8.8323e-01,  8.2663e-02, -2.5421e-01,  5.3660e-01, -2.9189e-01,\n",
       "           8.8515e-02, -6.9272e-01,  3.3401e-01, -4.8768e-01, -2.7665e-01,\n",
       "           2.6210e-02, -1.9968e-01, -1.4859e-01,  5.4340e-01,  6.1823e-01,\n",
       "           3.3763e-03, -7.7703e-01,  6.3454e-01,  6.7067e-01, -2.1638e-02,\n",
       "           9.6164e-01, -4.4335e-01, -1.5567e-01,  2.4996e-02,  3.6816e-01,\n",
       "          -1.2757e-02, -8.9402e-02, -7.0234e-02, -9.8689e-01,  1.4148e+00,\n",
       "           3.2375e-02,  1.4256e-01, -7.2908e-01,  6.0884e-01,  1.6688e-01,\n",
       "           5.9347e-01,  4.3074e-01,  1.0623e+00,  8.7143e-01,  1.8989e-01,\n",
       "          -1.1307e+00, -2.0823e-01, -3.7136e-01, -3.3035e-01, -1.1187e+00,\n",
       "          -6.5500e-01, -7.0381e-01, -2.8471e-01, -6.1118e-01, -8.4079e-01,\n",
       "           4.5397e-01, -4.0865e-01,  4.4979e-03,  6.3816e-01, -6.6293e-01,\n",
       "          -7.5800e-01,  6.6954e-01, -3.3781e-01, -4.3926e-01, -1.3151e-01,\n",
       "          -2.6854e-01, -5.2006e-02, -7.8472e-02,  6.2242e-01,  5.5506e-01,\n",
       "           3.5312e-01,  1.0588e+00,  1.4231e-03,  8.9064e-01,  3.6986e-01,\n",
       "          -8.7027e-01, -1.8991e-01, -2.5641e-01, -8.7705e-01, -5.4751e-03,\n",
       "          -1.7595e-02, -2.1015e-01, -5.6247e-01,  4.5120e-01,  1.0073e-01,\n",
       "          -5.3591e-01, -5.5071e-01, -5.3902e-01,  3.7162e-01,  4.1279e-01,\n",
       "           4.7413e-01, -7.6481e-03,  6.4743e-02, -5.8823e-01, -1.2704e+00,\n",
       "           1.7353e-01, -6.6402e-01,  5.5121e-01, -5.8089e-01,  3.4122e-01,\n",
       "           4.0144e-01, -1.2821e+00, -4.6483e-02,  4.6930e-01,  2.1492e-01,\n",
       "           6.1020e-02, -2.0338e-01, -3.3334e-01, -6.4350e-01, -6.5621e-01]],\n",
       "        grad_fn=<AddBackward0>),\n",
       " 'stoch_state_prior': {'stoch_state': Normal(loc: torch.Size([1, 30]), scale: torch.Size([1, 30])),\n",
       "  'mean': tensor([[-0.0743, -0.1359, -0.3498, -0.0166,  0.0934, -0.2610,  0.0645,  0.1632,\n",
       "            0.2960,  0.0009, -0.2021, -0.1114, -0.0649, -0.1820, -0.3077,  0.0589,\n",
       "           -0.1186, -0.1064,  0.0294,  0.1358, -0.0358, -0.0727,  0.0938,  0.1135,\n",
       "           -0.0919,  0.3070, -0.0180, -0.1286,  0.0392,  0.0816]],\n",
       "         grad_fn=<SplitBackward>),\n",
       "  'stddev': tensor([[0.8479, 0.8194, 0.9177, 0.7750, 0.7946, 0.6844, 0.9691, 0.8323, 0.7399,\n",
       "           0.7720, 0.7740, 0.7662, 0.7572, 0.8252, 0.9418, 0.7863, 0.7511, 0.6630,\n",
       "           0.7011, 0.7317, 0.7555, 0.6998, 0.9855, 0.8158, 0.7741, 0.8812, 0.8352,\n",
       "           0.8780, 0.7574, 0.6635]], grad_fn=<AddBackward0>)},\n",
       " 'stoch_state_posterior': {'stoch_state': tensor([[-0.6401, -0.0907, -0.3660,  0.4926,  0.0204,  0.1569,  0.3562, -0.4734,\n",
       "           -0.0707, -0.6781,  0.6936,  0.0276,  0.1397,  0.1402, -0.3458, -0.6349,\n",
       "           -2.1330,  0.1757,  0.4897, -0.9730, -1.2531,  0.6653,  1.2152, -0.1040,\n",
       "           -0.1859,  1.2290,  0.2461,  0.6302,  0.2567, -0.3036]],\n",
       "         grad_fn=<AddBackward0>),\n",
       "  'mean': tensor([[-0.0573, -0.1689, -0.1386,  0.0400,  0.0087,  0.0108,  0.0427,  0.0915,\n",
       "            0.0178,  0.0391,  0.0953,  0.0718, -0.1668,  0.2363, -0.0091,  0.1400,\n",
       "            0.0073,  0.0416,  0.0687, -0.1034,  0.1166,  0.0215,  0.0680, -0.1903,\n",
       "           -0.0431,  0.0080,  0.0860, -0.0658,  0.2263,  0.0607]],\n",
       "         grad_fn=<SplitBackward>),\n",
       "  'stddev': tensor([[0.8204, 0.7507, 0.8328, 0.7868, 0.7560, 0.7741, 0.8884, 0.8268, 0.7313,\n",
       "           0.8537, 0.8397, 0.8592, 0.7827, 0.7907, 0.7004, 0.8567, 0.8294, 0.8123,\n",
       "           0.7612, 0.7304, 0.7812, 0.7393, 0.8102, 0.7522, 0.8371, 0.7795, 0.8340,\n",
       "           0.8357, 0.8558, 0.6851]], grad_fn=<AddBackward0>)}}"
      ]
     },
     "execution_count": 11,
     "metadata": {},
     "output_type": "execute_result"
    }
   ],
   "source": [
    "preds"
   ]
  },
  {
   "cell_type": "code",
   "execution_count": 12,
   "metadata": {},
   "outputs": [],
   "source": [
    "determ_state = preds[\"determ_state\"]\n",
    "stoch_state_prior = preds[\"stoch_state_prior\"]\n",
    "stoch_state_posterior = preds[\"stoch_state_posterior\"]"
   ]
  },
  {
   "cell_type": "markdown",
   "metadata": {},
   "source": [
    "#### Reconstruction"
   ]
  },
  {
   "cell_type": "code",
   "execution_count": 13,
   "metadata": {},
   "outputs": [
    {
     "name": "stdout",
     "output_type": "stream",
     "text": [
      "Proprioception reconstruction size :  torch.Size([1, 4])\n",
      "Vision reconstruction size :  torch.Size([1, 3, 64, 64])\n"
     ]
    }
   ],
   "source": [
    "recon_proprio = proprio_decoder(determ_state, stoch_state_posterior['stoch_state'])\n",
    "recon_vision = vision_decoder(determ_state, stoch_state_posterior['stoch_state'])\n",
    "\n",
    "print(\"Proprioception reconstruction size : \", recon_proprio.size())\n",
    "print(\"Vision reconstruction size : \", recon_vision.size())"
   ]
  },
  {
   "cell_type": "markdown",
   "metadata": {},
   "source": [
    "### Losses\n",
    "\n",
    "reconstruction vision : sum over image, then mean over batch / time channel"
   ]
  },
  {
   "cell_type": "code",
   "execution_count": 14,
   "metadata": {},
   "outputs": [],
   "source": [
    "recon_vision_loss = F.mse_loss(recon_vision, x_vision, reduction='none').sum((1, 2, 3)).mean(0)"
   ]
  },
  {
   "cell_type": "code",
   "execution_count": 15,
   "metadata": {},
   "outputs": [
    {
     "data": {
      "text/plain": [
       "tensor(12425.9229, grad_fn=<MeanBackward1>)"
      ]
     },
     "execution_count": 15,
     "metadata": {},
     "output_type": "execute_result"
    }
   ],
   "source": [
    "recon_vision_loss"
   ]
  },
  {
   "cell_type": "code",
   "execution_count": 16,
   "metadata": {},
   "outputs": [],
   "source": [
    "recon_proprio_loss = F.mse_loss(recon_proprio, x_proprio, reduction='none').sum(1).mean(0)"
   ]
  },
  {
   "cell_type": "code",
   "execution_count": 17,
   "metadata": {},
   "outputs": [
    {
     "data": {
      "text/plain": [
       "tensor(6.1588, grad_fn=<MeanBackward1>)"
      ]
     },
     "execution_count": 17,
     "metadata": {},
     "output_type": "execute_result"
    }
   ],
   "source": [
    "recon_proprio_loss"
   ]
  },
  {
   "cell_type": "code",
   "execution_count": null,
   "metadata": {},
   "outputs": [],
   "source": []
  }
 ],
 "metadata": {
  "kernelspec": {
   "display_name": "mune",
   "language": "python",
   "name": "mune"
  },
  "language_info": {
   "codemirror_mode": {
    "name": "ipython",
    "version": 3
   },
   "file_extension": ".py",
   "mimetype": "text/x-python",
   "name": "python",
   "nbconvert_exporter": "python",
   "pygments_lexer": "ipython3",
   "version": "3.8.5"
  }
 },
 "nbformat": 4,
 "nbformat_minor": 4
}
