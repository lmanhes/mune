{
 "cells": [
  {
   "cell_type": "code",
   "execution_count": 1,
   "metadata": {},
   "outputs": [],
   "source": [
    "import sys, os\n",
    "sys.path.append(\"..\")\n",
    "import torch\n",
    "import torch.optim as optim\n",
    "import torch.nn.functional as F\n",
    "import numpy as np\n",
    "import matplotlib.pyplot as plt\n",
    "\n",
    "from mune.memory import ReplayBuffer\n",
    "from mune.representation import MultimodalBetaVAE, MultimodalBetaVAEConfig"
   ]
  },
  {
   "cell_type": "code",
   "execution_count": 2,
   "metadata": {},
   "outputs": [],
   "source": [
    "memory = ReplayBuffer.load(\"../data/memory.pkl\")"
   ]
  },
  {
   "cell_type": "code",
   "execution_count": 3,
   "metadata": {},
   "outputs": [
    {
     "data": {
      "text/plain": [
       "1873"
      ]
     },
     "execution_count": 3,
     "metadata": {},
     "output_type": "execute_result"
    }
   ],
   "source": [
    "len(memory)"
   ]
  },
  {
   "cell_type": "code",
   "execution_count": 49,
   "metadata": {
    "scrolled": true
   },
   "outputs": [
    {
     "name": "stdout",
     "output_type": "stream",
     "text": [
      "Loss :  0.2612825 \tReco loss :  0.10672616 \tKld loss :  0.038639084\n",
      "Loss :  0.55586386 \tReco loss :  0.11326822 \tKld loss :  0.11064891\n",
      "Loss :  0.12444699 \tReco loss :  0.103108086 \tKld loss :  0.0053347256\n",
      "Loss :  0.114959866 \tReco loss :  0.083545454 \tKld loss :  0.007853603\n",
      "Loss :  0.09812793 \tReco loss :  0.070792824 \tKld loss :  0.006833776\n",
      "Loss :  0.09124214 \tReco loss :  0.07363188 \tKld loss :  0.004402565\n",
      "Loss :  0.06486331 \tReco loss :  0.056619048 \tKld loss :  0.0020610653\n",
      "Loss :  0.052189194 \tReco loss :  0.044831224 \tKld loss :  0.0018394925\n",
      "Loss :  0.055933915 \tReco loss :  0.04652184 \tKld loss :  0.002353019\n",
      "Loss :  0.046706863 \tReco loss :  0.038611155 \tKld loss :  0.002023927\n",
      "Loss :  0.04803895 \tReco loss :  0.04179807 \tKld loss :  0.0015602196\n",
      "Loss :  0.039697558 \tReco loss :  0.034929425 \tKld loss :  0.0011920333\n",
      "Loss :  0.038510144 \tReco loss :  0.035039946 \tKld loss :  0.00086754933\n",
      "Loss :  0.031104198 \tReco loss :  0.028844366 \tKld loss :  0.00056495797\n",
      "Loss :  0.028833011 \tReco loss :  0.026982022 \tKld loss :  0.00046274718\n",
      "Loss :  0.031714268 \tReco loss :  0.029608496 \tKld loss :  0.0005264431\n",
      "Loss :  0.027178165 \tReco loss :  0.024979498 \tKld loss :  0.0005496666\n",
      "Loss :  0.027567588 \tReco loss :  0.025396604 \tKld loss :  0.0005427459\n",
      "Loss :  0.023186646 \tReco loss :  0.02119777 \tKld loss :  0.00049721915\n",
      "Loss :  0.024458902 \tReco loss :  0.022865934 \tKld loss :  0.00039824191\n",
      "Loss :  0.023263372 \tReco loss :  0.022147033 \tKld loss :  0.00027908478\n",
      "Loss :  0.023701107 \tReco loss :  0.022950778 \tKld loss :  0.00018758234\n",
      "Loss :  0.020357164 \tReco loss :  0.019646173 \tKld loss :  0.00017774757\n",
      "Loss :  0.02276125 \tReco loss :  0.022065932 \tKld loss :  0.0001738295\n",
      "Loss :  0.019218452 \tReco loss :  0.018664196 \tKld loss :  0.00013856404\n",
      "Loss :  0.017305171 \tReco loss :  0.016887175 \tKld loss :  0.00010449905\n",
      "Loss :  0.02189692 \tReco loss :  0.021498004 \tKld loss :  9.9728815e-05\n",
      "Loss :  0.018233037 \tReco loss :  0.017824555 \tKld loss :  0.00010212045\n",
      "Loss :  0.018957712 \tReco loss :  0.018590156 \tKld loss :  9.188894e-05\n",
      "Loss :  0.019956155 \tReco loss :  0.019673819 \tKld loss :  7.058401e-05\n",
      "Loss :  0.018356126 \tReco loss :  0.018137768 \tKld loss :  5.4589473e-05\n",
      "Loss :  0.018309541 \tReco loss :  0.0181215 \tKld loss :  4.701037e-05\n",
      "Loss :  0.017478775 \tReco loss :  0.017304149 \tKld loss :  4.3656677e-05\n",
      "Loss :  0.01734549 \tReco loss :  0.017188163 \tKld loss :  3.9331615e-05\n",
      "Loss :  0.018983856 \tReco loss :  0.01884596 \tKld loss :  3.4473836e-05\n",
      "Loss :  0.016054126 \tReco loss :  0.015931344 \tKld loss :  3.069546e-05\n",
      "Loss :  0.017088994 \tReco loss :  0.016970411 \tKld loss :  2.964586e-05\n",
      "Loss :  0.01585001 \tReco loss :  0.015736615 \tKld loss :  2.8348528e-05\n",
      "Loss :  0.014528774 \tReco loss :  0.01442815 \tKld loss :  2.5155954e-05\n",
      "Loss :  0.014776825 \tReco loss :  0.014692328 \tKld loss :  2.1124259e-05\n",
      "Loss :  0.014588695 \tReco loss :  0.014516555 \tKld loss :  1.8035062e-05\n",
      "Loss :  0.017499488 \tReco loss :  0.017430868 \tKld loss :  1.7154962e-05\n",
      "Loss :  0.015285766 \tReco loss :  0.015220514 \tKld loss :  1.6313046e-05\n",
      "Loss :  0.014507015 \tReco loss :  0.014446878 \tKld loss :  1.503434e-05\n",
      "Loss :  0.016055228 \tReco loss :  0.016000984 \tKld loss :  1.3560988e-05\n",
      "Loss :  0.013679946 \tReco loss :  0.013634795 \tKld loss :  1.128763e-05\n",
      "Loss :  0.016969038 \tReco loss :  0.016928973 \tKld loss :  1.0016374e-05\n",
      "Loss :  0.013999432 \tReco loss :  0.0139619745 \tKld loss :  9.3644485e-06\n",
      "Loss :  0.012503829 \tReco loss :  0.012468219 \tKld loss :  8.9025125e-06\n",
      "Loss :  0.015209016 \tReco loss :  0.0151768075 \tKld loss :  8.052215e-06\n",
      "Loss :  0.012191455 \tReco loss :  0.012163832 \tKld loss :  6.905757e-06\n",
      "Loss :  0.013425021 \tReco loss :  0.0134011535 \tKld loss :  5.9669837e-06\n",
      "Loss :  0.012770325 \tReco loss :  0.0127475895 \tKld loss :  5.6838617e-06\n",
      "Loss :  0.011950108 \tReco loss :  0.011927745 \tKld loss :  5.5907294e-06\n",
      "Loss :  0.015049387 \tReco loss :  0.015029024 \tKld loss :  5.090609e-06\n",
      "Loss :  0.013108906 \tReco loss :  0.013091677 \tKld loss :  4.307367e-06\n",
      "Loss :  0.010862223 \tReco loss :  0.01084829 \tKld loss :  3.4831464e-06\n",
      "Loss :  0.01400977 \tReco loss :  0.013998471 \tKld loss :  2.8247014e-06\n",
      "Loss :  0.010196045 \tReco loss :  0.010185543 \tKld loss :  2.6253983e-06\n",
      "Loss :  0.011590888 \tReco loss :  0.011579596 \tKld loss :  2.8228387e-06\n",
      "Loss :  0.012624494 \tReco loss :  0.012612539 \tKld loss :  2.9886141e-06\n",
      "Loss :  0.014279846 \tReco loss :  0.014268678 \tKld loss :  2.792105e-06\n",
      "Loss :  0.013756842 \tReco loss :  0.013748133 \tKld loss :  2.1774322e-06\n",
      "Loss :  0.011488371 \tReco loss :  0.011482026 \tKld loss :  1.5860423e-06\n",
      "Loss :  0.013985447 \tReco loss :  0.01398035 \tKld loss :  1.2740493e-06\n",
      "Loss :  0.012818686 \tReco loss :  0.012813616 \tKld loss :  1.26753e-06\n",
      "Loss :  0.014545668 \tReco loss :  0.014540255 \tKld loss :  1.3532117e-06\n",
      "Loss :  0.013449744 \tReco loss :  0.013444313 \tKld loss :  1.3578683e-06\n",
      "Loss :  0.0090930285 \tReco loss :  0.009087951 \tKld loss :  1.2693927e-06\n",
      "Loss :  0.012648015 \tReco loss :  0.012643798 \tKld loss :  1.0542572e-06\n",
      "Loss :  0.01252354 \tReco loss :  0.012519897 \tKld loss :  9.108335e-07\n",
      "Loss :  0.0148788225 \tReco loss :  0.01487579 \tKld loss :  7.580966e-07\n",
      "Loss :  0.012039404 \tReco loss :  0.012036208 \tKld loss :  7.9907477e-07\n",
      "Loss :  0.01214723 \tReco loss :  0.012144809 \tKld loss :  6.053597e-07\n",
      "Loss :  0.014161957 \tReco loss :  0.014159704 \tKld loss :  5.6345016e-07\n",
      "Loss :  0.014025816 \tReco loss :  0.014022757 \tKld loss :  7.6461583e-07\n",
      "Loss :  0.012332809 \tReco loss :  0.0123301195 \tKld loss :  6.724149e-07\n",
      "Loss :  0.013644702 \tReco loss :  0.0136424 \tKld loss :  5.7555735e-07\n",
      "Loss :  0.013050291 \tReco loss :  0.013048406 \tKld loss :  4.7124922e-07\n",
      "Loss :  0.0114490455 \tReco loss :  0.01144665 \tKld loss :  5.988404e-07\n",
      "Loss :  0.013183772 \tReco loss :  0.0131814955 \tKld loss :  5.690381e-07\n",
      "Loss :  0.016010713 \tReco loss :  0.016008947 \tKld loss :  4.414469e-07\n",
      "Loss :  0.010915808 \tReco loss :  0.010914542 \tKld loss :  3.1664968e-07\n",
      "Loss :  0.01191348 \tReco loss :  0.011912102 \tKld loss :  3.4458935e-07\n",
      "Loss :  0.012319774 \tReco loss :  0.012318504 \tKld loss :  3.17581e-07\n",
      "Loss :  0.013788029 \tReco loss :  0.01378662 \tKld loss :  3.5203993e-07\n",
      "Loss :  0.011278316 \tReco loss :  0.011276964 \tKld loss :  3.380701e-07\n",
      "Loss :  0.013583375 \tReco loss :  0.013581997 \tKld loss :  3.4458935e-07\n",
      "Loss :  0.015745135 \tReco loss :  0.015744032 \tKld loss :  2.7567148e-07\n",
      "Loss :  0.012285453 \tReco loss :  0.012284678 \tKld loss :  1.937151e-07\n",
      "Loss :  0.014626243 \tReco loss :  0.0146255465 \tKld loss :  1.7415732e-07\n",
      "Loss :  0.012293002 \tReco loss :  0.012292223 \tKld loss :  1.9464642e-07\n",
      "Loss :  0.011299959 \tReco loss :  0.011299199 \tKld loss :  1.899898e-07\n",
      "Loss :  0.012670906 \tReco loss :  0.012670079 \tKld loss :  2.0675361e-07\n",
      "Loss :  0.012000615 \tReco loss :  0.0119999815 \tKld loss :  1.5832484e-07\n",
      "Loss :  0.012681657 \tReco loss :  0.01268108 \tKld loss :  1.44355e-07\n",
      "Loss :  0.012399646 \tReco loss :  0.012399237 \tKld loss :  1.0244548e-07\n",
      "Loss :  0.010351178 \tReco loss :  0.010350847 \tKld loss :  8.288771e-08\n",
      "Loss :  0.011630179 \tReco loss :  0.011629848 \tKld loss :  8.288771e-08\n",
      "Loss :  0.009826451 \tReco loss :  0.009826156 \tKld loss :  7.357448e-08\n",
      "Loss :  0.014677479 \tReco loss :  0.014677162 \tKld loss :  7.916242e-08\n",
      "Loss :  0.012306674 \tReco loss :  0.012306373 \tKld loss :  7.543713e-08\n",
      "Loss :  0.010689726 \tReco loss :  0.010689301 \tKld loss :  1.0617077e-07\n",
      "Loss :  0.010827838 \tReco loss :  0.010827548 \tKld loss :  7.264316e-08\n",
      "Loss :  0.011930628 \tReco loss :  0.011930311 \tKld loss :  7.916242e-08\n",
      "Loss :  0.012196976 \tReco loss :  0.01219673 \tKld loss :  6.146729e-08\n",
      "Loss :  0.012525112 \tReco loss :  0.012524893 \tKld loss :  5.4948032e-08\n",
      "Loss :  0.011926707 \tReco loss :  0.011926431 \tKld loss :  6.891787e-08\n",
      "Loss :  0.011162011 \tReco loss :  0.011161713 \tKld loss :  7.4505806e-08\n",
      "Loss :  0.011994606 \tReco loss :  0.011994259 \tKld loss :  8.6613e-08\n",
      "Loss :  0.012473473 \tReco loss :  0.012473283 \tKld loss :  4.749745e-08\n",
      "Loss :  0.009180184 \tReco loss :  0.009179875 \tKld loss :  7.7299774e-08\n",
      "Loss :  0.011559982 \tReco loss :  0.011559587 \tKld loss :  9.872019e-08\n",
      "Loss :  0.014239177 \tReco loss :  0.014238622 \tKld loss :  1.3876706e-07\n"
     ]
    },
    {
     "name": "stdout",
     "output_type": "stream",
     "text": [
      "Loss :  0.014177213 \tReco loss :  0.014176863 \tKld loss :  8.754432e-08\n",
      "Loss :  0.012639329 \tReco loss :  0.012638833 \tKld loss :  1.238659e-07\n",
      "Loss :  0.01216539 \tReco loss :  0.012164634 \tKld loss :  1.8905848e-07\n",
      "Loss :  0.010210575 \tReco loss :  0.010209859 \tKld loss :  1.7881393e-07\n",
      "Loss :  0.012704683 \tReco loss :  0.012704221 \tKld loss :  1.15484e-07\n",
      "Loss :  0.012359079 \tReco loss :  0.012358494 \tKld loss :  1.4621764e-07\n",
      "Loss :  0.012469458 \tReco loss :  0.012468713 \tKld loss :  1.8626451e-07\n",
      "Loss :  0.011774351 \tReco loss :  0.0117737325 \tKld loss :  1.5459955e-07\n",
      "Loss :  0.01059953 \tReco loss :  0.010599076 \tKld loss :  1.13621354e-07\n",
      "Loss :  0.012150092 \tReco loss :  0.012149526 \tKld loss :  1.4156103e-07\n",
      "Loss :  0.0106166955 \tReco loss :  0.010615712 \tKld loss :  2.4586916e-07\n",
      "Loss :  0.011272367 \tReco loss :  0.011271544 \tKld loss :  2.0582229e-07\n",
      "Loss :  0.011381775 \tReco loss :  0.011381473 \tKld loss :  7.543713e-08\n",
      "Loss :  0.013437212 \tReco loss :  0.01343681 \tKld loss :  1.0058284e-07\n",
      "Loss :  0.012175446 \tReco loss :  0.012174813 \tKld loss :  1.5832484e-07\n",
      "Loss :  0.012831622 \tReco loss :  0.012831253 \tKld loss :  9.2200935e-08\n",
      "Loss :  0.0122472625 \tReco loss :  0.012247043 \tKld loss :  5.4948032e-08\n",
      "Loss :  0.012264945 \tReco loss :  0.012264639 \tKld loss :  7.636845e-08\n",
      "Loss :  0.0124961 \tReco loss :  0.012495694 \tKld loss :  1.0151416e-07\n",
      "Loss :  0.011776266 \tReco loss :  0.011775923 \tKld loss :  8.568168e-08\n",
      "Loss :  0.011570786 \tReco loss :  0.011570555 \tKld loss :  5.7742e-08\n",
      "Loss :  0.011217264 \tReco loss :  0.011216937 \tKld loss :  8.195639e-08\n",
      "Loss :  0.011272552 \tReco loss :  0.011272314 \tKld loss :  5.9604645e-08\n",
      "Loss :  0.010832053 \tReco loss :  0.010831617 \tKld loss :  1.0896474e-07\n",
      "Loss :  0.012291837 \tReco loss :  0.012291661 \tKld loss :  4.377216e-08\n",
      "Loss :  0.014188851 \tReco loss :  0.014188613 \tKld loss :  5.9604645e-08\n",
      "Loss :  0.0110803 \tReco loss :  0.01108001 \tKld loss :  7.264316e-08\n",
      "Loss :  0.013135359 \tReco loss :  0.013135139 \tKld loss :  5.4948032e-08\n",
      "Loss :  0.011098737 \tReco loss :  0.011098584 \tKld loss :  3.8184226e-08\n",
      "Loss :  0.0106007615 \tReco loss :  0.010600538 \tKld loss :  5.5879354e-08\n",
      "Loss :  0.012337192 \tReco loss :  0.012336901 \tKld loss :  7.264316e-08\n",
      "Loss :  0.011933928 \tReco loss :  0.011933742 \tKld loss :  4.656613e-08\n",
      "Loss :  0.011773363 \tReco loss :  0.011773195 \tKld loss :  4.1909516e-08\n",
      "Loss :  0.013054897 \tReco loss :  0.013054685 \tKld loss :  5.3085387e-08\n",
      "Loss :  0.012259654 \tReco loss :  0.0122594675 \tKld loss :  4.656613e-08\n",
      "Loss :  0.011218939 \tReco loss :  0.011218686 \tKld loss :  6.3329935e-08\n",
      "Loss :  0.011893352 \tReco loss :  0.011893109 \tKld loss :  6.053597e-08\n",
      "Loss :  0.012441366 \tReco loss :  0.012441169 \tKld loss :  4.9360096e-08\n",
      "Loss :  0.013522403 \tReco loss :  0.013522012 \tKld loss :  9.778887e-08\n",
      "Loss :  0.009625511 \tReco loss :  0.009625254 \tKld loss :  6.426126e-08\n",
      "Loss :  0.009544865 \tReco loss :  0.009544612 \tKld loss :  6.3329935e-08\n",
      "Loss :  0.014259236 \tReco loss :  0.014258856 \tKld loss :  9.49949e-08\n",
      "Loss :  0.012381381 \tReco loss :  0.012381039 \tKld loss :  8.568168e-08\n",
      "Loss :  0.010499567 \tReco loss :  0.010499276 \tKld loss :  7.264316e-08\n",
      "Loss :  0.011747675 \tReco loss :  0.011747355 \tKld loss :  8.009374e-08\n",
      "Loss :  0.008203 \tReco loss :  0.008202832 \tKld loss :  4.1909516e-08\n",
      "Loss :  0.011378642 \tReco loss :  0.011378445 \tKld loss :  4.9360096e-08\n",
      "Loss :  0.013851983 \tReco loss :  0.01385161 \tKld loss :  9.313226e-08\n",
      "Loss :  0.010626189 \tReco loss :  0.010626052 \tKld loss :  3.4458935e-08\n",
      "Loss :  0.012790105 \tReco loss :  0.012789908 \tKld loss :  4.9360096e-08\n",
      "Loss :  0.012443827 \tReco loss :  0.01244363 \tKld loss :  4.9360096e-08\n",
      "Loss :  0.010432055 \tReco loss :  0.010431817 \tKld loss :  5.9604645e-08\n",
      "Loss :  0.008356183 \tReco loss :  0.008356045 \tKld loss :  3.4458935e-08\n",
      "Loss :  0.009643193 \tReco loss :  0.009643082 \tKld loss :  2.7939677e-08\n",
      "Loss :  0.013413712 \tReco loss :  0.013413563 \tKld loss :  3.7252903e-08\n",
      "Loss :  0.011976055 \tReco loss :  0.011975932 \tKld loss :  3.0733645e-08\n",
      "Loss :  0.009225784 \tReco loss :  0.009225642 \tKld loss :  3.5390258e-08\n",
      "Loss :  0.011178343 \tReco loss :  0.011178153 \tKld loss :  4.749745e-08\n",
      "Loss :  0.010550371 \tReco loss :  0.010550211 \tKld loss :  4.004687e-08\n",
      "Loss :  0.016145054 \tReco loss :  0.016144853 \tKld loss :  5.029142e-08\n",
      "Loss :  0.013221662 \tReco loss :  0.01322152 \tKld loss :  3.5390258e-08\n",
      "Loss :  0.013286431 \tReco loss :  0.013286085 \tKld loss :  8.6613e-08\n",
      "Loss :  0.011287617 \tReco loss :  0.011287497 \tKld loss :  2.9802322e-08\n",
      "Loss :  0.00778773 \tReco loss :  0.0077876034 \tKld loss :  3.1664968e-08\n",
      "Loss :  0.013139238 \tReco loss :  0.013138686 \tKld loss :  1.3783574e-07\n",
      "Loss :  0.014408946 \tReco loss :  0.014408663 \tKld loss :  7.0780516e-08\n",
      "Loss :  0.010650928 \tReco loss :  0.010650511 \tKld loss :  1.0430813e-07\n",
      "Loss :  0.012662414 \tReco loss :  0.0126618 \tKld loss :  1.5366822e-07\n",
      "Loss :  0.008643848 \tReco loss :  0.008643218 \tKld loss :  1.5739352e-07\n",
      "Loss :  0.012361115 \tReco loss :  0.012360467 \tKld loss :  1.6205013e-07\n",
      "Loss :  0.011257538 \tReco loss :  0.011257042 \tKld loss :  1.238659e-07\n",
      "Loss :  0.013303376 \tReco loss :  0.01330253 \tKld loss :  2.1141022e-07\n",
      "Loss :  0.012284173 \tReco loss :  0.012283498 \tKld loss :  1.6856939e-07\n",
      "Loss :  0.010973214 \tReco loss :  0.010972644 \tKld loss :  1.4249235e-07\n",
      "Loss :  0.010490031 \tReco loss :  0.010489558 \tKld loss :  1.1827797e-07\n",
      "Loss :  0.009731607 \tReco loss :  0.009731081 \tKld loss :  1.3131648e-07\n",
      "Loss :  0.012038986 \tReco loss :  0.0120386025 \tKld loss :  9.5926225e-08\n",
      "Loss :  0.011548208 \tReco loss :  0.011547783 \tKld loss :  1.0617077e-07\n",
      "Loss :  0.010838962 \tReco loss :  0.010838668 \tKld loss :  7.357448e-08\n",
      "Loss :  0.010797682 \tReco loss :  0.010797354 \tKld loss :  8.195639e-08\n",
      "Loss :  0.011417876 \tReco loss :  0.011417533 \tKld loss :  8.568168e-08\n",
      "Loss :  0.010380041 \tReco loss :  0.010379776 \tKld loss :  6.61239e-08\n",
      "Loss :  0.010190673 \tReco loss :  0.010190409 \tKld loss :  6.61239e-08\n",
      "Loss :  0.010517066 \tReco loss :  0.010516854 \tKld loss :  5.3085387e-08\n",
      "Loss :  0.011765131 \tReco loss :  0.011764874 \tKld loss :  6.426126e-08\n",
      "Loss :  0.012508741 \tReco loss :  0.012508521 \tKld loss :  5.4948032e-08\n",
      "Loss :  0.012420595 \tReco loss :  0.012420356 \tKld loss :  5.9604645e-08\n",
      "Loss :  0.011366672 \tReco loss :  0.011366486 \tKld loss :  4.656613e-08\n",
      "Loss :  0.010479603 \tReco loss :  0.010479443 \tKld loss :  4.004687e-08\n",
      "Loss :  0.010581609 \tReco loss :  0.010581467 \tKld loss :  3.5390258e-08\n",
      "Loss :  0.01139805 \tReco loss :  0.011397912 \tKld loss :  3.4458935e-08\n",
      "Loss :  0.011018657 \tReco loss :  0.011018523 \tKld loss :  3.3527613e-08\n",
      "Loss :  0.012212056 \tReco loss :  0.012211948 \tKld loss :  2.7008355e-08\n",
      "Loss :  0.0101126 \tReco loss :  0.010112489 \tKld loss :  2.7939677e-08\n",
      "Loss :  0.011246296 \tReco loss :  0.011246165 \tKld loss :  3.259629e-08\n",
      "Loss :  0.010619377 \tReco loss :  0.01061922 \tKld loss :  3.9115548e-08\n",
      "Loss :  0.011948457 \tReco loss :  0.011948371 \tKld loss :  2.142042e-08\n",
      "Loss :  0.0092362445 \tReco loss :  0.009236144 \tKld loss :  2.514571e-08\n",
      "Loss :  0.011094787 \tReco loss :  0.011094664 \tKld loss :  3.0733645e-08\n",
      "Loss :  0.009471657 \tReco loss :  0.009471541 \tKld loss :  2.8871e-08\n",
      "Loss :  0.0113201365 \tReco loss :  0.011319999 \tKld loss :  3.4458935e-08\n",
      "Loss :  0.011676675 \tReco loss :  0.011676526 \tKld loss :  3.7252903e-08\n",
      "Loss :  0.012254211 \tReco loss :  0.012254099 \tKld loss :  2.7939677e-08\n",
      "Loss :  0.011718061 \tReco loss :  0.011717927 \tKld loss :  3.3527613e-08\n",
      "Loss :  0.010159181 \tReco loss :  0.010159073 \tKld loss :  2.7008355e-08\n",
      "Loss :  0.0114937285 \tReco loss :  0.011493613 \tKld loss :  2.8871e-08\n",
      "Loss :  0.010640298 \tReco loss :  0.01064016 \tKld loss :  3.4458935e-08\n",
      "Loss :  0.0120785115 \tReco loss :  0.012078433 \tKld loss :  1.9557774e-08\n",
      "Loss :  0.009330376 \tReco loss :  0.009330283 \tKld loss :  2.3283064e-08\n",
      "Loss :  0.01103892 \tReco loss :  0.011038782 \tKld loss :  3.4458935e-08\n",
      "Loss :  0.011795247 \tReco loss :  0.01179512 \tKld loss :  3.1664968e-08\n",
      "Loss :  0.010569942 \tReco loss :  0.010569834 \tKld loss :  2.7008355e-08\n",
      "Loss :  0.010064981 \tReco loss :  0.010064839 \tKld loss :  3.5390258e-08\n",
      "Loss :  0.009154869 \tReco loss :  0.009154787 \tKld loss :  2.0489097e-08\n"
     ]
    },
    {
     "name": "stdout",
     "output_type": "stream",
     "text": [
      "Loss :  0.012489099 \tReco loss :  0.012488931 \tKld loss :  4.1909516e-08\n",
      "Loss :  0.009723185 \tReco loss :  0.009723028 \tKld loss :  3.9115548e-08\n",
      "Loss :  0.013848588 \tReco loss :  0.013848506 \tKld loss :  2.0489097e-08\n",
      "Loss :  0.011072188 \tReco loss :  0.01107205 \tKld loss :  3.4458935e-08\n",
      "Loss :  0.014364962 \tReco loss :  0.0143648535 \tKld loss :  2.7008355e-08\n",
      "Loss :  0.012290253 \tReco loss :  0.012290186 \tKld loss :  1.6763806e-08\n",
      "Loss :  0.011753441 \tReco loss :  0.011753284 \tKld loss :  3.9115548e-08\n",
      "Loss :  0.014080121 \tReco loss :  0.014080028 \tKld loss :  2.3283064e-08\n",
      "Loss :  0.010038466 \tReco loss :  0.010038351 \tKld loss :  2.8871e-08\n",
      "Loss :  0.012904697 \tReco loss :  0.012904544 \tKld loss :  3.8184226e-08\n",
      "Loss :  0.011345842 \tReco loss :  0.011345726 \tKld loss :  2.8871e-08\n",
      "Loss :  0.014411765 \tReco loss :  0.014411609 \tKld loss :  3.9115548e-08\n",
      "Loss :  0.013434498 \tReco loss :  0.013434367 \tKld loss :  3.259629e-08\n",
      "Loss :  0.011359066 \tReco loss :  0.011358917 \tKld loss :  3.7252903e-08\n",
      "Loss :  0.0117718605 \tReco loss :  0.011771767 \tKld loss :  2.3283064e-08\n",
      "Loss :  0.009782834 \tReco loss :  0.009782756 \tKld loss :  1.9557774e-08\n",
      "Loss :  0.012371124 \tReco loss :  0.012371016 \tKld loss :  2.7008355e-08\n",
      "Loss :  0.01284543 \tReco loss :  0.012845348 \tKld loss :  2.0489097e-08\n",
      "Loss :  0.012661779 \tReco loss :  0.012661641 \tKld loss :  3.4458935e-08\n",
      "Loss :  0.009602575 \tReco loss :  0.009602448 \tKld loss :  3.1664968e-08\n",
      "Loss :  0.01179381 \tReco loss :  0.011793709 \tKld loss :  2.514571e-08\n",
      "Loss :  0.010888993 \tReco loss :  0.010888933 \tKld loss :  1.4901161e-08\n",
      "Loss :  0.011460828 \tReco loss :  0.011460675 \tKld loss :  3.8184226e-08\n",
      "Loss :  0.010472306 \tReco loss :  0.01047193 \tKld loss :  9.406358e-08\n",
      "Loss :  0.012038814 \tReco loss :  0.012038609 \tKld loss :  5.122274e-08\n",
      "Loss :  0.010687094 \tReco loss :  0.010686904 \tKld loss :  4.749745e-08\n",
      "Loss :  0.009707999 \tReco loss :  0.009707847 \tKld loss :  3.8184226e-08\n",
      "Loss :  0.012612041 \tReco loss :  0.012611814 \tKld loss :  5.6810677e-08\n",
      "Loss :  0.009998847 \tReco loss :  0.009998679 \tKld loss :  4.1909516e-08\n",
      "Loss :  0.012170388 \tReco loss :  0.012170195 \tKld loss :  4.8428774e-08\n",
      "Loss :  0.009526846 \tReco loss :  0.009526548 \tKld loss :  7.4505806e-08\n",
      "Loss :  0.014946949 \tReco loss :  0.014946766 \tKld loss :  4.5634806e-08\n",
      "Loss :  0.011042793 \tReco loss :  0.011042622 \tKld loss :  4.284084e-08\n",
      "Loss :  0.014662282 \tReco loss :  0.014662043 \tKld loss :  5.9604645e-08\n",
      "Loss :  0.0121194385 \tReco loss :  0.012119301 \tKld loss :  3.4458935e-08\n",
      "Loss :  0.00969017 \tReco loss :  0.009689995 \tKld loss :  4.377216e-08\n",
      "Loss :  0.01121 \tReco loss :  0.011209773 \tKld loss :  5.6810677e-08\n",
      "Loss :  0.011991528 \tReco loss :  0.011991245 \tKld loss :  7.0780516e-08\n",
      "Loss :  0.012432219 \tReco loss :  0.0124320295 \tKld loss :  4.749745e-08\n",
      "Loss :  0.012085553 \tReco loss :  0.012085285 \tKld loss :  6.7055225e-08\n",
      "Loss :  0.010962037 \tReco loss :  0.010961665 \tKld loss :  9.313226e-08\n",
      "Loss :  0.010514544 \tReco loss :  0.01051438 \tKld loss :  4.0978193e-08\n",
      "Loss :  0.012774887 \tReco loss :  0.012774626 \tKld loss :  6.519258e-08\n",
      "Loss :  0.011025284 \tReco loss :  0.011025016 \tKld loss :  6.7055225e-08\n",
      "Loss :  0.0106942635 \tReco loss :  0.010694059 \tKld loss :  5.122274e-08\n",
      "Loss :  0.009677659 \tReco loss :  0.009677458 \tKld loss :  5.029142e-08\n",
      "Loss :  0.011411238 \tReco loss :  0.011410713 \tKld loss :  1.3131648e-07\n",
      "Loss :  0.01036149 \tReco loss :  0.010361337 \tKld loss :  3.8184226e-08\n",
      "Loss :  0.009097681 \tReco loss :  0.0090973945 \tKld loss :  7.171184e-08\n",
      "Loss :  0.014162673 \tReco loss :  0.014162449 \tKld loss :  5.5879354e-08\n",
      "Loss :  0.0111518195 \tReco loss :  0.011151667 \tKld loss :  3.8184226e-08\n",
      "Loss :  0.011581889 \tReco loss :  0.011581681 \tKld loss :  5.2154064e-08\n",
      "Loss :  0.011185318 \tReco loss :  0.011185158 \tKld loss :  4.004687e-08\n",
      "Loss :  0.014471348 \tReco loss :  0.014471021 \tKld loss :  8.195639e-08\n",
      "Loss :  0.012657283 \tReco loss :  0.0126569625 \tKld loss :  8.009374e-08\n",
      "Loss :  0.011186313 \tReco loss :  0.011185944 \tKld loss :  9.2200935e-08\n",
      "Loss :  0.013361034 \tReco loss :  0.013360509 \tKld loss :  1.3131648e-07\n",
      "Loss :  0.009027572 \tReco loss :  0.009026917 \tKld loss :  1.6391277e-07\n",
      "Loss :  0.013529255 \tReco loss :  0.0135289235 \tKld loss :  8.288771e-08\n",
      "Loss :  0.011892805 \tReco loss :  0.011892462 \tKld loss :  8.568168e-08\n",
      "Loss :  0.011936206 \tReco loss :  0.0119360015 \tKld loss :  5.122274e-08\n",
      "Loss :  0.010225154 \tReco loss :  0.01022486 \tKld loss :  7.357448e-08\n",
      "Loss :  0.012325786 \tReco loss :  0.012325514 \tKld loss :  6.798655e-08\n",
      "Loss :  0.0117484825 \tReco loss :  0.011748322 \tKld loss :  4.004687e-08\n",
      "Loss :  0.010871131 \tReco loss :  0.010870747 \tKld loss :  9.5926225e-08\n",
      "Loss :  0.009134973 \tReco loss :  0.009134724 \tKld loss :  6.239861e-08\n",
      "Loss :  0.0105609 \tReco loss :  0.010560688 \tKld loss :  5.3085387e-08\n",
      "Loss :  0.012383564 \tReco loss :  0.012383237 \tKld loss :  8.195639e-08\n",
      "Loss :  0.0087325 \tReco loss :  0.008732272 \tKld loss :  5.6810677e-08\n",
      "Loss :  0.010320235 \tReco loss :  0.010320041 \tKld loss :  4.8428774e-08\n",
      "Loss :  0.01107604 \tReco loss :  0.011075887 \tKld loss :  3.8184226e-08\n",
      "Loss :  0.012424849 \tReco loss :  0.012424462 \tKld loss :  9.685755e-08\n"
     ]
    }
   ],
   "source": [
    "representation_config = MultimodalBetaVAEConfig(beta=4, latent_dim=32)\n",
    "representation_module = MultimodalBetaVAE(config=representation_config)\n",
    "\n",
    "n_step = 300\n",
    "optimizer = optim.Adam(representation_module.parameters(), lr=0.001)\n",
    "\n",
    "for step in range(n_step):\n",
    "    states, actions, rewards, next_states, dones = memory.sample(32)\n",
    "    with torch.set_grad_enabled(True):\n",
    "        mu, log_var, z, reco_observations = representation_module(states)\n",
    "        losses = representation_module.loss(observations=states,\n",
    "                                            mu=mu,\n",
    "                                            log_var=log_var,\n",
    "                                            reco_observations= reco_observations)\n",
    "        representation_module.zero_grad()\n",
    "        losses[\"loss\"].backward()\n",
    "        print(\"Loss : \", losses[\"loss\"].detach().numpy(), \n",
    "              \"\\tReco loss : \", losses[\"reco_loss\"].detach().numpy(),\n",
    "              \"\\tKld loss : \", losses[\"kld_loss\"].detach().numpy())\n",
    "        optimizer.step()"
   ]
  },
  {
   "cell_type": "code",
   "execution_count": 44,
   "metadata": {},
   "outputs": [],
   "source": [
    "states, actions, rewards, next_states, dones = memory.sample(1)\n",
    "\n",
    "with torch.set_grad_enabled(False):\n",
    "    mu, log_var, z, reco_observations = representation_module(states)"
   ]
  },
  {
   "cell_type": "code",
   "execution_count": 45,
   "metadata": {
    "scrolled": true
   },
   "outputs": [
    {
     "data": {
      "text/plain": [
       "<matplotlib.image.AxesImage at 0x7ffda00a42b0>"
      ]
     },
     "execution_count": 45,
     "metadata": {},
     "output_type": "execute_result"
    },
    {
     "data": {
      "image/png": "[encoded data removed]",
      "text/plain": [
       "<Figure size 432x288 with 1 Axes>"
      ]
     },
     "metadata": {
      "needs_background": "light"
     },
     "output_type": "display_data"
    }
   ],
   "source": [
    "plt.imshow(np.transpose(states[\"vision\"][0].numpy(), (1, 2, 0)))"
   ]
  },
  {
   "cell_type": "code",
   "execution_count": 46,
   "metadata": {},
   "outputs": [
    {
     "name": "stderr",
     "output_type": "stream",
     "text": [
      "Clipping input data to the valid range for imshow with RGB data ([0..1] for floats or [0..255] for integers).\n"
     ]
    },
    {
     "data": {
      "text/plain": [
       "<matplotlib.image.AxesImage at 0x7ffda0030340>"
      ]
     },
     "execution_count": 46,
     "metadata": {},
     "output_type": "execute_result"
    },
    {
     "data": {
      "image/png": "[encoded data removed]",
      "text/plain": [
       "<Figure size 432x288 with 1 Axes>"
      ]
     },
     "metadata": {
      "needs_background": "light"
     },
     "output_type": "display_data"
    }
   ],
   "source": [
    "plt.imshow(np.transpose(reco_observations[\"vision\"][0].numpy(), (1, 2, 0)))"
   ]
  },
  {
   "cell_type": "code",
   "execution_count": 47,
   "metadata": {},
   "outputs": [
    {
     "data": {
      "text/plain": [
       "tensor(0.0185)"
      ]
     },
     "execution_count": 47,
     "metadata": {},
     "output_type": "execute_result"
    }
   ],
   "source": [
    "F.mse_loss(states[\"vision\"][0], reco_observations[\"vision\"][0])"
   ]
  },
  {
   "cell_type": "code",
   "execution_count": 40,
   "metadata": {},
   "outputs": [
    {
     "data": {
      "text/plain": [
       "tensor(0.6434)"
      ]
     },
     "execution_count": 40,
     "metadata": {},
     "output_type": "execute_result"
    }
   ],
   "source": [
    "reco_observations[\"vision\"][0].max()"
   ]
  },
  {
   "cell_type": "code",
   "execution_count": null,
   "metadata": {},
   "outputs": [],
   "source": []
  }
 ],
 "metadata": {
  "kernelspec": {
   "display_name": "mune",
   "language": "python",
   "name": "mune"
  },
  "language_info": {
   "codemirror_mode": {
    "name": "ipython",
    "version": 3
   },
   "file_extension": ".py",
   "mimetype": "text/x-python",
   "name": "python",
   "nbconvert_exporter": "python",
   "pygments_lexer": "ipython3",
   "version": "3.8.5"
  }
 },
 "nbformat": 4,
 "nbformat_minor": 4
}
