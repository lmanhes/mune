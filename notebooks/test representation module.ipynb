{
 "cells": [
  {
   "cell_type": "code",
   "execution_count": 20,
   "metadata": {},
   "outputs": [],
   "source": [
    "import sys, os\n",
    "sys.path.append(\"..\")\n",
    "import torch\n",
    "import torch.nn.functional as F\n",
    "import matplotlib.pyplot as plt\n",
    "\n",
    "from mune.representation import MultimodalBetaVAE, MultimodalBetaVAEConfig"
   ]
  },
  {
   "cell_type": "code",
   "execution_count": 2,
   "metadata": {},
   "outputs": [],
   "source": [
    "config = MultimodalBetaVAEConfig(\n",
    ")"
   ]
  },
  {
   "cell_type": "code",
   "execution_count": 3,
   "metadata": {},
   "outputs": [],
   "source": [
    "model = MultimodalBetaVAE(config=config)"
   ]
  },
  {
   "cell_type": "code",
   "execution_count": 4,
   "metadata": {
    "scrolled": true
   },
   "outputs": [
    {
     "data": {
      "text/plain": [
       "MultimodalBetaVAE(\n",
       "  (encoder_modalities): ModuleDict(\n",
       "    (vision): VisionEncoder(\n",
       "      (conv_encoder): Sequential(\n",
       "        (conv1): Conv2d(3, 32, kernel_size=(4, 4), stride=(2, 2))\n",
       "        (relu1): ReLU()\n",
       "        (conv2): Conv2d(32, 64, kernel_size=(4, 4), stride=(2, 2))\n",
       "        (relu2): ReLU()\n",
       "        (conv3): Conv2d(64, 128, kernel_size=(4, 4), stride=(2, 2))\n",
       "        (relu3): ReLU()\n",
       "        (conv4): Conv2d(128, 256, kernel_size=(4, 4), stride=(2, 2))\n",
       "        (relu4): ReLU()\n",
       "      )\n",
       "    )\n",
       "    (proprio): ProprioEncoder(\n",
       "      (fc): Linear(in_features=4, out_features=32, bias=True)\n",
       "    )\n",
       "  )\n",
       "  (decoder_modalities): ModuleDict(\n",
       "    (vision): VisionDecoder(\n",
       "      (fc_deter_stoch): Linear(in_features=256, out_features=1024, bias=True)\n",
       "      (convt_decoder): Sequential(\n",
       "        (convt1): ConvTranspose2d(1024, 128, kernel_size=(5, 5), stride=(2, 2))\n",
       "        (relu1): ReLU()\n",
       "        (convt2): ConvTranspose2d(128, 64, kernel_size=(5, 5), stride=(2, 2))\n",
       "        (relu2): ReLU()\n",
       "        (convt3): ConvTranspose2d(64, 32, kernel_size=(6, 6), stride=(2, 2))\n",
       "        (relu3): ReLU()\n",
       "        (convt4): ConvTranspose2d(32, 3, kernel_size=(6, 6), stride=(2, 2))\n",
       "      )\n",
       "    )\n",
       "    (proprio): ProprioDecoder(\n",
       "      (fc): Linear(in_features=256, out_features=4, bias=True)\n",
       "    )\n",
       "  )\n",
       "  (fusion_layer): FusionLayer(\n",
       "    (fc_1): Linear(in_features=1056, out_features=512, bias=True)\n",
       "    (fc_2): Linear(in_features=512, out_features=256, bias=True)\n",
       "  )\n",
       "  (fc_mu): Linear(in_features=256, out_features=128, bias=True)\n",
       "  (fc_var): Linear(in_features=256, out_features=128, bias=True)\n",
       "  (z_to_fusion_state): Linear(in_features=128, out_features=256, bias=True)\n",
       ")"
      ]
     },
     "execution_count": 4,
     "metadata": {},
     "output_type": "execute_result"
    }
   ],
   "source": [
    "model"
   ]
  },
  {
   "cell_type": "code",
   "execution_count": 5,
   "metadata": {},
   "outputs": [],
   "source": [
    "observations = {\n",
    "    \"vision\": torch.randn((1, 3, 64, 64)),\n",
    "    \"proprio\": torch.randn((1, 4))\n",
    "}"
   ]
  },
  {
   "cell_type": "code",
   "execution_count": 13,
   "metadata": {},
   "outputs": [
    {
     "name": "stderr",
     "output_type": "stream",
     "text": [
      "Clipping input data to the valid range for imshow with RGB data ([0..1] for floats or [0..255] for integers).\n"
     ]
    },
    {
     "data": {
      "text/plain": [
       "<matplotlib.image.AxesImage at 0x7fda703bca00>"
      ]
     },
     "execution_count": 13,
     "metadata": {},
     "output_type": "execute_result"
    },
    {
     "data": {
      "image/png": "[encoded data removed]",
      "text/plain": [
       "<Figure size 432x288 with 1 Axes>"
      ]
     },
     "metadata": {
      "needs_background": "light"
     },
     "output_type": "display_data"
    }
   ],
   "source": [
    "plt.imshow(observations['vision'].squeeze(0).permute(1, 2, 0))"
   ]
  },
  {
   "cell_type": "code",
   "execution_count": 14,
   "metadata": {},
   "outputs": [
    {
     "data": {
      "text/plain": [
       "<matplotlib.image.AxesImage at 0x7fda92dc4ac0>"
      ]
     },
     "execution_count": 14,
     "metadata": {},
     "output_type": "execute_result"
    },
    {
     "data": {
      "image/png": "[encoded data removed]",
      "text/plain": [
       "<Figure size 432x288 with 1 Axes>"
      ]
     },
     "metadata": {
      "needs_background": "light"
     },
     "output_type": "display_data"
    }
   ],
   "source": [
    "plt.imshow(observations[\"proprio\"])"
   ]
  },
  {
   "cell_type": "code",
   "execution_count": 6,
   "metadata": {},
   "outputs": [
    {
     "name": "stdout",
     "output_type": "stream",
     "text": [
      "fusion_state :  torch.Size([1, 256])\n"
     ]
    }
   ],
   "source": [
    "mu, log_var, z, reco_observations = model(observations)"
   ]
  },
  {
   "cell_type": "code",
   "execution_count": 7,
   "metadata": {},
   "outputs": [
    {
     "data": {
      "text/plain": [
       "torch.Size([1, 128])"
      ]
     },
     "execution_count": 7,
     "metadata": {},
     "output_type": "execute_result"
    }
   ],
   "source": [
    "mu.size()"
   ]
  },
  {
   "cell_type": "code",
   "execution_count": 8,
   "metadata": {},
   "outputs": [
    {
     "data": {
      "text/plain": [
       "torch.Size([1, 128])"
      ]
     },
     "execution_count": 8,
     "metadata": {},
     "output_type": "execute_result"
    }
   ],
   "source": [
    "log_var.size()"
   ]
  },
  {
   "cell_type": "code",
   "execution_count": 9,
   "metadata": {},
   "outputs": [
    {
     "data": {
      "text/plain": [
       "torch.Size([1, 128])"
      ]
     },
     "execution_count": 9,
     "metadata": {},
     "output_type": "execute_result"
    }
   ],
   "source": [
    "z.size()"
   ]
  },
  {
   "cell_type": "code",
   "execution_count": 10,
   "metadata": {},
   "outputs": [
    {
     "data": {
      "text/plain": [
       "{'loss': tensor(2.0287, grad_fn=<AddBackward0>),\n",
       " 'reco_loss': tensor(0.9655, grad_fn=<MeanBackward1>),\n",
       " 'kld_loss': tensor(0.2127, grad_fn=<MeanBackward1>)}"
      ]
     },
     "execution_count": 10,
     "metadata": {},
     "output_type": "execute_result"
    }
   ],
   "source": [
    "model.loss(observations, mu, log_var, reco_observations)"
   ]
  }
 ],
 "metadata": {
  "kernelspec": {
   "display_name": "mune",
   "language": "python",
   "name": "mune"
  },
  "language_info": {
   "codemirror_mode": {
    "name": "ipython",
    "version": 3
   },
   "file_extension": ".py",
   "mimetype": "text/x-python",
   "name": "python",
   "nbconvert_exporter": "python",
   "pygments_lexer": "ipython3",
   "version": "3.8.5"
  }
 },
 "nbformat": 4,
 "nbformat_minor": 4
}
